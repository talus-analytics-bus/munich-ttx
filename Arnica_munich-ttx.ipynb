{
 "cells": [
  {
   "cell_type": "code",
   "execution_count": 64,
   "metadata": {},
   "outputs": [],
   "source": [
    "from datetime import datetime, date, timedelta\n",
    "import json\n",
    "import uuid\n",
    "from enum import Enum\n",
    "import random\n",
    "\n",
    "# 3rd party modules\n",
    "import boto3\n",
    "import pandas as pd\n",
    "import numpy as np\n",
    "\n",
    "# Custom modules\n",
    "from ModelRun import ModelRun\n",
    "\n",
    "from ModelClasses import ModelTypes, EpiParams, Intervention, Result, ModelReport\n",
    "\n",
    "from checkPlots import prep_plot"
   ]
  },
  {
   "cell_type": "code",
   "execution_count": 2,
   "metadata": {},
   "outputs": [],
   "source": [
    "%load_ext autoreload\n",
    "%autoreload 2"
   ]
  },
  {
   "cell_type": "code",
   "execution_count": 3,
   "metadata": {},
   "outputs": [],
   "source": [
    "flu_dict = {\n",
    "    'presymptomatic_period': 2,\n",
    "    'duration_mild_infections': 4,\n",
    "    'duration_asymp_infections': 4,\n",
    "    'hospital_time_recovery': 11,\n",
    "    'icu_time_death': 8,\n",
    "    'beta_asymp': 0.4,\n",
    "    'beta_mild': 0.4,\n",
    "    'beta_hospitalized': 0.1,\n",
    "    'beta_icu': 0.1,\n",
    "    'percent_asymp': 0.33,\n",
    "    'hospitalization_rate': 0.3,\n",
    "    'hospitalized_cases_requiring_icu_care': 0.7,\n",
    "    'death_rate_for_critical': 0.75,\n",
    "}\n",
    "\n",
    "pox_dict = {\n",
    "    'presymptomatic_period': 6,\n",
    "    'duration_mild_infections': 4,\n",
    "    'hospital_time_recovery': 4,\n",
    "    'icu_time_death': 2,\n",
    "    'beta_asymp': 0.8,\n",
    "    'beta_mild': 0.8,\n",
    "    'beta_hospitalized': 0.1,\n",
    "    'beta_icu': 0.1,\n",
    "    'percent_asymp': 0,\n",
    "    'hospitalization_rate': 0.25,\n",
    "    'hospitalized_cases_requiring_icu_care': 0.5,\n",
    "    'death_rate_for_critical': 0.8,\n",
    "}\n",
    "\n",
    "covid_15_dict = {\n",
    "    'presymptomatic_period': 6,\n",
    "    'duration_mild_infections': 6,\n",
    "    'duration_asymp_infections': 6,\n",
    "    'hospital_time_recovery': 11,\n",
    "    'icu_time_death': 8,\n",
    "    'beta_asymp': 0.28,\n",
    "    'beta_mild': 0.28,\n",
    "    'beta_hospitalized': 0.1,\n",
    "    'beta_icu': 0.1,\n",
    "    'percent_asymp': 0.3,\n",
    "    'hospitalization_rate': 0.1,\n",
    "    'hospitalized_cases_requiring_icu_care': 0.25,\n",
    "    'death_rate_for_critical': 0.4,\n",
    "}\n",
    "\n",
    "disease_params = pox_dict\n",
    "#disease_params = flu_dict\n",
    "#disease_params = covid_15_dict"
   ]
  },
  {
   "cell_type": "code",
   "execution_count": 4,
   "metadata": {},
   "outputs": [],
   "source": [
    "def run_model_with_params(city, run_type, timeseries, disease_params):\n",
    "    \n",
    "    modelrun = ModelRun(city,  run_type)\n",
    "    modelrun.get_data(timeseries)\n",
    "    modelrun.set_epi_model(\"asymp\")\n",
    "\n",
    "    for param_name, param_value in disease_params.items():\n",
    "        setattr(modelrun, param_name, param_value)\n",
    "\n",
    "    modelrun.epi_run.generate_epi_params()\n",
    "    params = modelrun.epi_run.EpiParameters\n",
    "\n",
    "    modelrun.run()\n",
    "    display = modelrun.epi_run.display_df.copy()\n",
    "    display[\"cum_cases\"] = display[\"infected\"].cumsum()\n",
    "\n",
    "    display[\"pct_infected\"] = display[\"cum_cases\"] / modelrun.population\n",
    "    \n",
    "    return display\n",
    "    \n",
    "def run_city_country(city):\n",
    "\n",
    "    cases = random.randint(5, 35)\n",
    "\n",
    "    city_timeseries = {\n",
    "        '2020-11-26': {'state': city, 'fips': '123', \n",
    "                       'cases': cases, \n",
    "                       'deaths': 0, \n",
    "                       'estimated_recovered': 0,\n",
    "                       'active': cases,\n",
    "                       'estimated_hospitalized': 0,\n",
    "                       'estimated_infected': 0, \n",
    "                      },\n",
    "    }\n",
    " \n",
    "\n",
    "\n",
    "\n",
    "    city_df = run_model_with_params(city, 'city', city_timeseries, disease_params)\n",
    "    \n",
    "    country_outbreak_threshold = 10 / 100000\n",
    "\n",
    "    country_outbreak_date = city_df.loc[(city_df.pct_infected >= country_outbreak_threshold), 'date'].min()\n",
    "\n",
    "    country_outbreak_date_str = country_outbreak_date.strftime(\"%Y-%m-%d\")\n",
    "    \n",
    "    country_cases = random.randint(50, 500)\n",
    "    \n",
    "    country_timeseries = {\n",
    "        country_outbreak_date_str: {'state': city, 'fips': '123',\n",
    "                                    'cases': country_cases,\n",
    "                                    'deaths': '0',\n",
    "                                    'estimated_recovered': 0,\n",
    "                                    'active': country_cases,\n",
    "                                    'estimated_hospitalized': 0,\n",
    "                                    'estimated_infected': 0, \n",
    "                                    },\n",
    "    }\n",
    "    \n",
    "    \n",
    "    country_df = run_model_with_params(city, 'country', country_timeseries, disease_params)\n",
    "\n",
    "    return {'city': city_df, 'country': country_df}"
   ]
  },
  {
   "cell_type": "code",
   "execution_count": 5,
   "metadata": {},
   "outputs": [],
   "source": [
    "city = 'Arnica'\n",
    "run_type = 'city'\n",
    "cases = random.randint(30, 50)\n",
    "\n",
    "city_timeseries = {\n",
    "    '2021-2-19': {'state': city, 'fips': '123', \n",
    "                   'cases': cases, \n",
    "                   'deaths': 0, \n",
    "                   'estimated_recovered': 0,\n",
    "                   'active': cases,\n",
    "                   'estimated_hospitalized': 0,\n",
    "                   'estimated_infected': 0, \n",
    "                  },\n",
    "}\n",
    "\n",
    "#d = run_model_with_params(city, 'city', city_timeseries, disease_params)\n",
    "    \n",
    "#print(d['R effective'].max())\n",
    "#print(d['R effective'].min())\n",
    "\n",
    "\n",
    "modelrun = ModelRun(city,  run_type)\n",
    "modelrun.get_data(city_timeseries)\n",
    "modelrun.set_epi_model(\"asymp\")\n",
    "\n",
    "for param_name, param_value in disease_params.items():\n",
    "    setattr(modelrun, param_name, param_value)\n",
    "\n",
    "modelrun.epi_run.generate_epi_params()\n",
    "params = modelrun.epi_run.EpiParameters\n",
    "\n",
    "modelrun.run()\n",
    "display = modelrun.epi_run.display_df.copy()\n",
    "display[\"cum_cases\"] = display[\"infected\"].cumsum()\n",
    "\n",
    "display[\"pct_infected\"] = display[\"cum_cases\"] / modelrun.population"
   ]
  },
  {
   "cell_type": "code",
   "execution_count": 6,
   "metadata": {},
   "outputs": [
    {
     "name": "stdout",
     "output_type": "stream",
     "text": [
      "42\n",
      "50000000.0\n"
     ]
    }
   ],
   "source": [
    "print(cases)\n",
    "print(modelrun.population)"
   ]
  },
  {
   "cell_type": "code",
   "execution_count": 7,
   "metadata": {},
   "outputs": [
    {
     "name": "stdout",
     "output_type": "stream",
     "text": [
      "0\n",
      "0.25\n",
      "0.5\n",
      "0.8\n",
      "0.1\n",
      "0.1\n"
     ]
    }
   ],
   "source": [
    "print(modelrun.percent_asymp)\n",
    "print(modelrun.hospitalization_rate)\n",
    "print(modelrun.hospitalized_cases_requiring_icu_care)\n",
    "print(modelrun.death_rate_for_critical)\n",
    "\n",
    "print((1 - modelrun.percent_asymp) * modelrun.hospitalization_rate * modelrun.hospitalized_cases_requiring_icu_care * modelrun.death_rate_for_critical)\n",
    "\n",
    "print(modelrun.case_fatality_rate)"
   ]
  },
  {
   "cell_type": "code",
   "execution_count": 19,
   "metadata": {},
   "outputs": [
    {
     "name": "stdout",
     "output_type": "stream",
     "text": [
      "1051.836818219652\n",
      "1240.962240247009\n",
      "67.71036782024834\n"
     ]
    }
   ],
   "source": [
    "move_1_date = pd.Timestamp(datetime(2021, 2, 19).date() + timedelta(days = 21))\n",
    "\n",
    "print(display.loc[(display['date'] == move_1_date), 'infected_a'].max())\n",
    "print(display.loc[(display['date'] == move_1_date), 'infected'].max())\n",
    "print(display.loc[(display['date'] == move_1_date), 'dead'].max())"
   ]
  },
  {
   "cell_type": "code",
   "execution_count": 9,
   "metadata": {},
   "outputs": [
    {
     "data": {
      "text/html": [
       "<div>\n",
       "<style scoped>\n",
       "    .dataframe tbody tr th:only-of-type {\n",
       "        vertical-align: middle;\n",
       "    }\n",
       "\n",
       "    .dataframe tbody tr th {\n",
       "        vertical-align: top;\n",
       "    }\n",
       "\n",
       "    .dataframe thead th {\n",
       "        text-align: right;\n",
       "    }\n",
       "</style>\n",
       "<table border=\"1\" class=\"dataframe\">\n",
       "  <thead>\n",
       "    <tr style=\"text-align: right;\">\n",
       "      <th></th>\n",
       "      <th>date</th>\n",
       "      <th>exposed</th>\n",
       "      <th>infected_a</th>\n",
       "      <th>infected_b</th>\n",
       "      <th>infected_c</th>\n",
       "      <th>recovered</th>\n",
       "      <th>dead</th>\n",
       "      <th>asymp</th>\n",
       "      <th>source</th>\n",
       "      <th>R effective</th>\n",
       "      <th>infected</th>\n",
       "      <th>pct_change</th>\n",
       "      <th>doubling_time</th>\n",
       "      <th>cum_cases</th>\n",
       "      <th>pct_infected</th>\n",
       "    </tr>\n",
       "  </thead>\n",
       "  <tbody>\n",
       "    <tr>\n",
       "      <th>0</th>\n",
       "      <td>2021-02-19</td>\n",
       "      <td>42.0</td>\n",
       "      <td>42.0</td>\n",
       "      <td>0.0</td>\n",
       "      <td>0.0</td>\n",
       "      <td>0.0</td>\n",
       "      <td>0.0</td>\n",
       "      <td>0.0</td>\n",
       "      <td>actuals</td>\n",
       "      <td>3.325</td>\n",
       "      <td>42.0</td>\n",
       "      <td>NaN</td>\n",
       "      <td>NaN</td>\n",
       "      <td>42.0</td>\n",
       "      <td>8.400000e-07</td>\n",
       "    </tr>\n",
       "  </tbody>\n",
       "</table>\n",
       "</div>"
      ],
      "text/plain": [
       "         date  exposed  infected_a  infected_b  infected_c  recovered  dead  \\\n",
       "0  2021-02-19     42.0        42.0         0.0         0.0        0.0   0.0   \n",
       "\n",
       "   asymp   source  R effective  infected  pct_change  doubling_time  \\\n",
       "0    0.0  actuals        3.325      42.0         NaN            NaN   \n",
       "\n",
       "   cum_cases  pct_infected  \n",
       "0       42.0  8.400000e-07  "
      ]
     },
     "execution_count": 9,
     "metadata": {},
     "output_type": "execute_result"
    }
   ],
   "source": [
    "display.head(1)"
   ]
  },
  {
   "cell_type": "code",
   "execution_count": 10,
   "metadata": {},
   "outputs": [
    {
     "name": "stdout",
     "output_type": "stream",
     "text": [
      "first case\n",
      "2021-02-19 00:00:00\n",
      "peak in hospitalizations\n",
      "2021-03-12T00:00:00.000000000\n",
      "158.95268418106897\n",
      "peak in icu\n",
      "2021-03-12T00:00:00.000000000\n",
      "29.92707697217613\n",
      "deaths\n",
      "67.71036782024834\n"
     ]
    },
    {
     "name": "stderr",
     "output_type": "stream",
     "text": [
      "/Users/trae/.virtualenvs/ray-covid/lib/python3.8/site-packages/pandas/core/indexing.py:966: SettingWithCopyWarning: \n",
      "A value is trying to be set on a copy of a slice from a DataFrame.\n",
      "Try using .loc[row_indexer,col_indexer] = value instead\n",
      "\n",
      "See the caveats in the documentation: https://pandas.pydata.org/pandas-docs/stable/user_guide/indexing.html#returning-a-view-versus-a-copy\n",
      "  self.obj[item] = s\n"
     ]
    },
    {
     "name": "stdout",
     "output_type": "stream",
     "text": [
      "interventions: None\n"
     ]
    },
    {
     "data": {
      "image/png": "[encoded data removed]",
      "text/plain": [
       "<Figure size 1152x1008 with 2 Axes>"
      ]
     },
     "metadata": {
      "needs_background": "light"
     },
     "output_type": "display_data"
    }
   ],
   "source": [
    "cols = [\"infected_a\", \"dead\", \"R effective\"]\n",
    "prep_plot(display.loc[(display['date'] <= move_1_date), :], cols, line_day=datetime(2021,2,19), filename='flu_r=2.svg')"
   ]
  },
  {
   "cell_type": "code",
   "execution_count": 38,
   "metadata": {},
   "outputs": [],
   "source": [
    "city = 'Arnica'\n",
    "run_type = 'country'\n",
    "cases = random.randint(100, 150)\n",
    "\n",
    "city_timeseries = {\n",
    "    '2021-3-19': {'state': city, 'fips': '123', \n",
    "                   'cases': cases, \n",
    "                   'deaths': 0, \n",
    "                   'estimated_recovered': 0,\n",
    "                   'active': cases,\n",
    "                   'estimated_hospitalized': 0,\n",
    "                   'estimated_infected': 0, \n",
    "                  },\n",
    "}\n",
    "\n",
    "#d = run_model_with_params(city, 'city', city_timeseries, disease_params)\n",
    "    \n",
    "#print(d['R effective'].max())\n",
    "#print(d['R effective'].min())\n",
    "\n",
    "\n",
    "a_modelrun = ModelRun(city,  run_type)\n",
    "a_modelrun.get_data(city_timeseries)\n",
    "a_modelrun.set_epi_model(\"asymp\")\n",
    "\n",
    "for param_name, param_value in disease_params.items():\n",
    "    setattr(a_modelrun, param_name, param_value)\n",
    "\n",
    "a_modelrun.epi_run.generate_epi_params()\n",
    "a_params = a_modelrun.epi_run.EpiParameters\n",
    "\n",
    "a_modelrun.run()\n",
    "a_display = a_modelrun.epi_run.display_df.copy()\n",
    "a_display[\"cum_cases\"] = a_display[\"infected\"].cumsum()\n",
    "\n",
    "a_display[\"pct_infected\"] = a_display[\"cum_cases\"] / a_modelrun.population"
   ]
  },
  {
   "cell_type": "code",
   "execution_count": 39,
   "metadata": {},
   "outputs": [
    {
     "name": "stdout",
     "output_type": "stream",
     "text": [
      "first case\n",
      "2021-02-19 00:00:00\n",
      "peak in hospitalizations\n",
      "2021-05-18T00:00:00.000000000\n",
      "1,529,895.2881609718\n",
      "peak in icu\n",
      "2021-05-20T00:00:00.000000000\n",
      "376,737.8743106816\n",
      "deaths\n",
      "4,793,686.999702933\n",
      "interventions: None\n"
     ]
    },
    {
     "data": {
      "image/png": "[encoded data removed]",
      "text/plain": [
       "<Figure size 1152x1008 with 2 Axes>"
      ]
     },
     "metadata": {
      "needs_background": "light"
     },
     "output_type": "display_data"
    }
   ],
   "source": [
    "cols = [\"infected_a\", \"dead\", \"R effective\"]\n",
    "prep_plot(display, cols, line_day=datetime(2021,2,19), filename='flu_r=2.svg')"
   ]
  },
  {
   "cell_type": "code",
   "execution_count": 40,
   "metadata": {},
   "outputs": [
    {
     "name": "stdout",
     "output_type": "stream",
     "text": [
      "first case\n",
      "2021-03-19 00:00:00\n",
      "peak in hospitalizations\n",
      "2021-06-29T00:00:00.000000000\n",
      "35,209,509.0765833\n",
      "peak in icu\n",
      "2021-07-01T00:00:00.000000000\n",
      "8,670,107.281050704\n",
      "deaths\n",
      "110,254,816.21450874\n",
      "interventions: None\n"
     ]
    },
    {
     "data": {
      "image/png": "[encoded data removed]",
      "text/plain": [
       "<Figure size 1152x1008 with 2 Axes>"
      ]
     },
     "metadata": {
      "needs_background": "light"
     },
     "output_type": "display_data"
    }
   ],
   "source": [
    "cols = [\"infected_a\", \"dead\", \"R effective\"]\n",
    "prep_plot(a_display, cols, line_day=datetime(2021,2,19), filename='flu_r=2.svg')"
   ]
  },
  {
   "cell_type": "code",
   "execution_count": 41,
   "metadata": {},
   "outputs": [
    {
     "name": "stdout",
     "output_type": "stream",
     "text": [
      "[1.23373225e+08]\n",
      "[1.51247403e+08]\n",
      "[15120687.79699536]\n"
     ]
    }
   ],
   "source": [
    "move_2_date = pd.Timestamp(datetime(2021, 2, 19) + timedelta(days = 120))\n",
    "\n",
    "print(a_display.loc[(a_display['date'] == move_2_date), 'infected_a'].values)\n",
    "print(a_display.loc[(a_display['date'] == move_2_date), 'infected'].values)\n",
    "print(a_display.loc[(a_display['date'] == move_2_date), 'dead'].values)"
   ]
  },
  {
   "cell_type": "code",
   "execution_count": 42,
   "metadata": {},
   "outputs": [
    {
     "data": {
      "text/plain": [
       "Timestamp('2021-06-19 00:00:00')"
      ]
     },
     "execution_count": 42,
     "metadata": {},
     "output_type": "execute_result"
    }
   ],
   "source": [
    "move_2_date"
   ]
  },
  {
   "cell_type": "code",
   "execution_count": 43,
   "metadata": {},
   "outputs": [
    {
     "data": {
      "text/plain": [
       "date             2021-02-19 00:00:00\n",
       "exposed                           42\n",
       "infected_a                        42\n",
       "infected_b                         0\n",
       "infected_c                         0\n",
       "recovered                          0\n",
       "dead                               0\n",
       "asymp                              0\n",
       "source                       actuals\n",
       "R effective                    3.325\n",
       "infected                          42\n",
       "pct_change                       NaN\n",
       "doubling_time                    NaN\n",
       "cum_cases                         42\n",
       "pct_infected                 8.4e-07\n",
       "Name: 0, dtype: object"
      ]
     },
     "execution_count": 43,
     "metadata": {},
     "output_type": "execute_result"
    }
   ],
   "source": [
    "display.iloc[0, :]"
   ]
  },
  {
   "cell_type": "code",
   "execution_count": 44,
   "metadata": {},
   "outputs": [
    {
     "data": {
      "text/plain": [
       "Timestamp('2022-03-18 00:00:00')"
      ]
     },
     "execution_count": 44,
     "metadata": {},
     "output_type": "execute_result"
    }
   ],
   "source": [
    "a_display['date'].max()"
   ]
  },
  {
   "cell_type": "code",
   "execution_count": 45,
   "metadata": {},
   "outputs": [
    {
     "data": {
      "text/html": [
       "<div>\n",
       "<style scoped>\n",
       "    .dataframe tbody tr th:only-of-type {\n",
       "        vertical-align: middle;\n",
       "    }\n",
       "\n",
       "    .dataframe tbody tr th {\n",
       "        vertical-align: top;\n",
       "    }\n",
       "\n",
       "    .dataframe thead th {\n",
       "        text-align: right;\n",
       "    }\n",
       "</style>\n",
       "<table border=\"1\" class=\"dataframe\">\n",
       "  <thead>\n",
       "    <tr style=\"text-align: right;\">\n",
       "      <th></th>\n",
       "      <th>date</th>\n",
       "      <th>exposed</th>\n",
       "      <th>infected_a</th>\n",
       "      <th>infected_b</th>\n",
       "      <th>infected_c</th>\n",
       "      <th>recovered</th>\n",
       "      <th>dead</th>\n",
       "      <th>asymp</th>\n",
       "      <th>source</th>\n",
       "      <th>R effective</th>\n",
       "      <th>infected</th>\n",
       "      <th>pct_change</th>\n",
       "      <th>doubling_time</th>\n",
       "      <th>cum_cases</th>\n",
       "      <th>pct_infected</th>\n",
       "    </tr>\n",
       "  </thead>\n",
       "  <tbody>\n",
       "    <tr>\n",
       "      <th>79</th>\n",
       "      <td>2021-06-06</td>\n",
       "      <td>6.994474e+07</td>\n",
       "      <td>2.964492e+07</td>\n",
       "      <td>4.646867e+06</td>\n",
       "      <td>891610.385775</td>\n",
       "      <td>4.058867e+07</td>\n",
       "      <td>2.267418e+06</td>\n",
       "      <td>0.000012</td>\n",
       "      <td>base run</td>\n",
       "      <td>3.325</td>\n",
       "      <td>3.518340e+07</td>\n",
       "      <td>0.162937</td>\n",
       "      <td>4.254077</td>\n",
       "      <td>2.470684e+08</td>\n",
       "      <td>0.214842</td>\n",
       "    </tr>\n",
       "  </tbody>\n",
       "</table>\n",
       "</div>"
      ],
      "text/plain": [
       "         date       exposed    infected_a    infected_b     infected_c  \\\n",
       "79 2021-06-06  6.994474e+07  2.964492e+07  4.646867e+06  891610.385775   \n",
       "\n",
       "       recovered          dead     asymp    source  R effective      infected  \\\n",
       "79  4.058867e+07  2.267418e+06  0.000012  base run        3.325  3.518340e+07   \n",
       "\n",
       "    pct_change  doubling_time     cum_cases  pct_infected  \n",
       "79    0.162937       4.254077  2.470684e+08      0.214842  "
      ]
     },
     "execution_count": 45,
     "metadata": {},
     "output_type": "execute_result"
    }
   ],
   "source": [
    "#display.dtypes \n",
    "\n",
    "a_display.loc[(a_display['date'] ==  pd.Timestamp(2021, 6, 6)), :]"
   ]
  },
  {
   "cell_type": "code",
   "execution_count": 46,
   "metadata": {},
   "outputs": [],
   "source": [
    "add_cols = lambda s1, s2: s1 + s2"
   ]
  },
  {
   "cell_type": "code",
   "execution_count": 47,
   "metadata": {},
   "outputs": [],
   "source": [
    "test_1 = display.set_index('date').drop('source', axis=1)\n",
    "test_2 = a_display.set_index('date').drop('source', axis=1)"
   ]
  },
  {
   "cell_type": "code",
   "execution_count": 48,
   "metadata": {},
   "outputs": [],
   "source": [
    "combo = test_1.combine(test_2, add_cols, fill_value=0)\n",
    "\n",
    "combo.reset_index(inplace=True)"
   ]
  },
  {
   "cell_type": "code",
   "execution_count": 50,
   "metadata": {},
   "outputs": [
    {
     "name": "stdout",
     "output_type": "stream",
     "text": [
      "first case\n",
      "2021-02-19 00:00:00\n",
      "peak in hospitalizations\n",
      "2021-06-29T00:00:00.000000000\n",
      "35,257,550.13566702\n",
      "peak in icu\n",
      "2021-07-01T00:00:00.000000000\n",
      "8,682,490.656224854\n",
      "deaths\n",
      "115,048,503.21411122\n",
      "interventions: None\n"
     ]
    },
    {
     "data": {
      "image/png": "[encoded data removed]",
      "text/plain": [
       "<Figure size 1080x576 with 1 Axes>"
      ]
     },
     "metadata": {
      "needs_background": "light"
     },
     "output_type": "display_data"
    }
   ],
   "source": [
    "cols = [\"infected_a\", \"dead\"]\n",
    "prep_plot(combo, cols, line_day=datetime(2021,2,19), filename='combo.svg')"
   ]
  },
  {
   "cell_type": "code",
   "execution_count": 53,
   "metadata": {},
   "outputs": [
    {
     "data": {
      "text/plain": [
       "50.287356321839084"
      ]
     },
     "execution_count": 53,
     "metadata": {},
     "output_type": "execute_result"
    }
   ],
   "source": [
    "35000000 / 1200000000 * 1000 / 0.58"
   ]
  },
  {
   "cell_type": "code",
   "execution_count": null,
   "metadata": {},
   "outputs": [],
   "source": [
    "print(display.loc[(display['date'] < move_2_date), 'infected']"
   ]
  },
  {
   "cell_type": "code",
   "execution_count": 33,
   "metadata": {},
   "outputs": [
    {
     "name": "stdout",
     "output_type": "stream",
     "text": [
      "148324250.29444847\n",
      "180715790.4149835\n",
      "14803229.341246305\n"
     ]
    }
   ],
   "source": [
    "print(a_display.loc[(a_display['date'] < move_2_date), 'infected_a'].max())\n",
    "print(a_display.loc[(a_display['date'] < move_2_date), 'infected'].max())\n",
    "print(a_display.loc[(a_display['date'] < move_2_date), 'dead'].max())"
   ]
  },
  {
   "cell_type": "code",
   "execution_count": 34,
   "metadata": {},
   "outputs": [],
   "source": [
    "display['week'] = display['date'].dt.strftime('%Y-w%U')"
   ]
  },
  {
   "cell_type": "code",
   "execution_count": 10,
   "metadata": {},
   "outputs": [
    {
     "data": {
      "text/html": [
       "<div>\n",
       "<style scoped>\n",
       "    .dataframe tbody tr th:only-of-type {\n",
       "        vertical-align: middle;\n",
       "    }\n",
       "\n",
       "    .dataframe tbody tr th {\n",
       "        vertical-align: top;\n",
       "    }\n",
       "\n",
       "    .dataframe thead th {\n",
       "        text-align: right;\n",
       "    }\n",
       "</style>\n",
       "<table border=\"1\" class=\"dataframe\">\n",
       "  <thead>\n",
       "    <tr style=\"text-align: right;\">\n",
       "      <th></th>\n",
       "      <th>date</th>\n",
       "      <th>exposed</th>\n",
       "      <th>infected_a</th>\n",
       "      <th>infected_b</th>\n",
       "      <th>infected_c</th>\n",
       "      <th>recovered</th>\n",
       "      <th>dead</th>\n",
       "      <th>asymp</th>\n",
       "      <th>source</th>\n",
       "      <th>R effective</th>\n",
       "      <th>infected</th>\n",
       "      <th>pct_change</th>\n",
       "      <th>doubling_time</th>\n",
       "      <th>cum_cases</th>\n",
       "      <th>pct_infected</th>\n",
       "    </tr>\n",
       "  </thead>\n",
       "  <tbody>\n",
       "    <tr>\n",
       "      <th>0</th>\n",
       "      <td>2021-02-19</td>\n",
       "      <td>233.000000</td>\n",
       "      <td>233.000000</td>\n",
       "      <td>0.000000</td>\n",
       "      <td>0.000000</td>\n",
       "      <td>0.000000</td>\n",
       "      <td>0.000000</td>\n",
       "      <td>0.000000</td>\n",
       "      <td>actuals</td>\n",
       "      <td>6.015</td>\n",
       "      <td>233.000000</td>\n",
       "      <td>NaN</td>\n",
       "      <td>NaN</td>\n",
       "      <td>233.000000</td>\n",
       "      <td>0.000002</td>\n",
       "    </tr>\n",
       "    <tr>\n",
       "      <th>0</th>\n",
       "      <td>2021-02-19</td>\n",
       "      <td>233.000000</td>\n",
       "      <td>233.000000</td>\n",
       "      <td>0.000000</td>\n",
       "      <td>0.000000</td>\n",
       "      <td>0.000000</td>\n",
       "      <td>0.000000</td>\n",
       "      <td>69.900000</td>\n",
       "      <td>base run</td>\n",
       "      <td>6.015</td>\n",
       "      <td>302.900000</td>\n",
       "      <td>NaN</td>\n",
       "      <td>NaN</td>\n",
       "      <td>535.900000</td>\n",
       "      <td>0.000005</td>\n",
       "    </tr>\n",
       "    <tr>\n",
       "      <th>1</th>\n",
       "      <td>2021-02-20</td>\n",
       "      <td>461.893743</td>\n",
       "      <td>251.405579</td>\n",
       "      <td>9.536288</td>\n",
       "      <td>0.208290</td>\n",
       "      <td>38.343627</td>\n",
       "      <td>0.007029</td>\n",
       "      <td>61.686533</td>\n",
       "      <td>base run</td>\n",
       "      <td>6.015</td>\n",
       "      <td>322.836690</td>\n",
       "      <td>NaN</td>\n",
       "      <td>NaN</td>\n",
       "      <td>858.736690</td>\n",
       "      <td>0.000009</td>\n",
       "    </tr>\n",
       "    <tr>\n",
       "      <th>2</th>\n",
       "      <td>2021-02-21</td>\n",
       "      <td>680.163035</td>\n",
       "      <td>300.879996</td>\n",
       "      <td>19.627904</td>\n",
       "      <td>0.807280</td>\n",
       "      <td>80.488039</td>\n",
       "      <td>0.054616</td>\n",
       "      <td>54.438175</td>\n",
       "      <td>base run</td>\n",
       "      <td>6.015</td>\n",
       "      <td>375.753355</td>\n",
       "      <td>NaN</td>\n",
       "      <td>NaN</td>\n",
       "      <td>1234.490045</td>\n",
       "      <td>0.000012</td>\n",
       "    </tr>\n",
       "    <tr>\n",
       "      <th>3</th>\n",
       "      <td>2021-02-22</td>\n",
       "      <td>915.044309</td>\n",
       "      <td>377.278213</td>\n",
       "      <td>31.362961</td>\n",
       "      <td>1.799478</td>\n",
       "      <td>130.177634</td>\n",
       "      <td>0.181547</td>\n",
       "      <td>48.041521</td>\n",
       "      <td>base run</td>\n",
       "      <td>6.015</td>\n",
       "      <td>458.482173</td>\n",
       "      <td>NaN</td>\n",
       "      <td>NaN</td>\n",
       "      <td>1692.972218</td>\n",
       "      <td>0.000017</td>\n",
       "    </tr>\n",
       "  </tbody>\n",
       "</table>\n",
       "</div>"
      ],
      "text/plain": [
       "         date     exposed  infected_a  infected_b  infected_c   recovered  \\\n",
       "0  2021-02-19  233.000000  233.000000    0.000000    0.000000    0.000000   \n",
       "0  2021-02-19  233.000000  233.000000    0.000000    0.000000    0.000000   \n",
       "1  2021-02-20  461.893743  251.405579    9.536288    0.208290   38.343627   \n",
       "2  2021-02-21  680.163035  300.879996   19.627904    0.807280   80.488039   \n",
       "3  2021-02-22  915.044309  377.278213   31.362961    1.799478  130.177634   \n",
       "\n",
       "       dead      asymp    source  R effective    infected  pct_change  \\\n",
       "0  0.000000   0.000000   actuals        6.015  233.000000         NaN   \n",
       "0  0.000000  69.900000  base run        6.015  302.900000         NaN   \n",
       "1  0.007029  61.686533  base run        6.015  322.836690         NaN   \n",
       "2  0.054616  54.438175  base run        6.015  375.753355         NaN   \n",
       "3  0.181547  48.041521  base run        6.015  458.482173         NaN   \n",
       "\n",
       "   doubling_time    cum_cases  pct_infected  \n",
       "0            NaN   233.000000      0.000002  \n",
       "0            NaN   535.900000      0.000005  \n",
       "1            NaN   858.736690      0.000009  \n",
       "2            NaN  1234.490045      0.000012  \n",
       "3            NaN  1692.972218      0.000017  "
      ]
     },
     "execution_count": 10,
     "metadata": {},
     "output_type": "execute_result"
    }
   ],
   "source": [
    "display.head()"
   ]
  },
  {
   "cell_type": "code",
   "execution_count": 36,
   "metadata": {},
   "outputs": [
    {
     "data": {
      "text/plain": [
       "Timestamp('2020-11-26 00:00:00')"
      ]
     },
     "execution_count": 36,
     "metadata": {},
     "output_type": "execute_result"
    }
   ],
   "source": [
    "display['date'].min()"
   ]
  },
  {
   "cell_type": "code",
   "execution_count": 38,
   "metadata": {},
   "outputs": [
    {
     "data": {
      "text/html": [
       "<div>\n",
       "<style scoped>\n",
       "    .dataframe tbody tr th:only-of-type {\n",
       "        vertical-align: middle;\n",
       "    }\n",
       "\n",
       "    .dataframe tbody tr th {\n",
       "        vertical-align: top;\n",
       "    }\n",
       "\n",
       "    .dataframe thead th {\n",
       "        text-align: right;\n",
       "    }\n",
       "</style>\n",
       "<table border=\"1\" class=\"dataframe\">\n",
       "  <thead>\n",
       "    <tr style=\"text-align: right;\">\n",
       "      <th></th>\n",
       "      <th>date</th>\n",
       "      <th>exposed</th>\n",
       "      <th>infected_a</th>\n",
       "      <th>infected_b</th>\n",
       "      <th>infected_c</th>\n",
       "      <th>recovered</th>\n",
       "      <th>dead</th>\n",
       "      <th>asymp</th>\n",
       "      <th>source</th>\n",
       "      <th>R effective</th>\n",
       "      <th>infected</th>\n",
       "      <th>pct_change</th>\n",
       "      <th>doubling_time</th>\n",
       "      <th>cum_cases</th>\n",
       "      <th>pct_infected</th>\n",
       "      <th>week</th>\n",
       "    </tr>\n",
       "  </thead>\n",
       "  <tbody>\n",
       "    <tr>\n",
       "      <th>25</th>\n",
       "      <td>2020-12-21</td>\n",
       "      <td>61000.597108</td>\n",
       "      <td>26625.933221</td>\n",
       "      <td>3540.770074</td>\n",
       "      <td>457.158779</td>\n",
       "      <td>15598.62951</td>\n",
       "      <td>194.16955</td>\n",
       "      <td>1.318108</td>\n",
       "      <td>base run</td>\n",
       "      <td>6.015</td>\n",
       "      <td>30625.180181</td>\n",
       "      <td>0.250612</td>\n",
       "      <td>2.765813</td>\n",
       "      <td>152169.517008</td>\n",
       "      <td>0.15217</td>\n",
       "      <td>2020-w51</td>\n",
       "    </tr>\n",
       "  </tbody>\n",
       "</table>\n",
       "</div>"
      ],
      "text/plain": [
       "         date       exposed    infected_a   infected_b  infected_c  \\\n",
       "25 2020-12-21  61000.597108  26625.933221  3540.770074  457.158779   \n",
       "\n",
       "      recovered       dead     asymp    source  R effective      infected  \\\n",
       "25  15598.62951  194.16955  1.318108  base run        6.015  30625.180181   \n",
       "\n",
       "    pct_change  doubling_time      cum_cases  pct_infected      week  \n",
       "25    0.250612       2.765813  152169.517008       0.15217  2020-w51  "
      ]
     },
     "execution_count": 38,
     "metadata": {},
     "output_type": "execute_result"
    }
   ],
   "source": [
    "display.loc[(display['date'] == '2020-12-21'), :]"
   ]
  },
  {
   "cell_type": "code",
   "execution_count": 144,
   "metadata": {},
   "outputs": [
    {
     "data": {
      "text/html": [
       "<div>\n",
       "<style scoped>\n",
       "    .dataframe tbody tr th:only-of-type {\n",
       "        vertical-align: middle;\n",
       "    }\n",
       "\n",
       "    .dataframe tbody tr th {\n",
       "        vertical-align: top;\n",
       "    }\n",
       "\n",
       "    .dataframe thead th {\n",
       "        text-align: right;\n",
       "    }\n",
       "</style>\n",
       "<table border=\"1\" class=\"dataframe\">\n",
       "  <thead>\n",
       "    <tr style=\"text-align: right;\">\n",
       "      <th></th>\n",
       "      <th>week</th>\n",
       "      <th>date</th>\n",
       "      <th>exposed</th>\n",
       "      <th>infected_a</th>\n",
       "      <th>infected_b</th>\n",
       "      <th>infected_c</th>\n",
       "      <th>recovered</th>\n",
       "      <th>dead</th>\n",
       "      <th>asymp</th>\n",
       "      <th>source</th>\n",
       "      <th>R effective</th>\n",
       "      <th>infected</th>\n",
       "      <th>pct_change</th>\n",
       "      <th>doubling_time</th>\n",
       "      <th>cum_cases</th>\n",
       "      <th>pct_infected</th>\n",
       "      <th>Hospitalized</th>\n",
       "    </tr>\n",
       "  </thead>\n",
       "  <tbody>\n",
       "    <tr>\n",
       "      <th>0</th>\n",
       "      <td>2020-w47</td>\n",
       "      <td>2020-11-28</td>\n",
       "      <td>291.830718</td>\n",
       "      <td>129.122106</td>\n",
       "      <td>8.423717</td>\n",
       "      <td>0.346466</td>\n",
       "      <td>34.543353</td>\n",
       "      <td>0.023440</td>\n",
       "      <td>30.000000</td>\n",
       "      <td>base run</td>\n",
       "      <td>6.015</td>\n",
       "      <td>161.256313</td>\n",
       "      <td>NaN</td>\n",
       "      <td>NaN</td>\n",
       "      <td>529.810341</td>\n",
       "      <td>0.000530</td>\n",
       "      <td>8.770184</td>\n",
       "    </tr>\n",
       "    <tr>\n",
       "      <th>1</th>\n",
       "      <td>2020-w48</td>\n",
       "      <td>2020-12-05</td>\n",
       "      <td>1666.474942</td>\n",
       "      <td>689.586938</td>\n",
       "      <td>82.797428</td>\n",
       "      <td>8.948065</td>\n",
       "      <td>352.659738</td>\n",
       "      <td>2.374508</td>\n",
       "      <td>20.618678</td>\n",
       "      <td>base run</td>\n",
       "      <td>6.015</td>\n",
       "      <td>791.072005</td>\n",
       "      <td>0.270425</td>\n",
       "      <td>3.572545</td>\n",
       "      <td>3583.034527</td>\n",
       "      <td>0.003583</td>\n",
       "      <td>91.745493</td>\n",
       "    </tr>\n",
       "    <tr>\n",
       "      <th>2</th>\n",
       "      <td>2020-w49</td>\n",
       "      <td>2020-12-12</td>\n",
       "      <td>8374.378297</td>\n",
       "      <td>3515.789647</td>\n",
       "      <td>450.639540</td>\n",
       "      <td>55.790110</td>\n",
       "      <td>1955.367467</td>\n",
       "      <td>20.775349</td>\n",
       "      <td>8.595144</td>\n",
       "      <td>base run</td>\n",
       "      <td>6.015</td>\n",
       "      <td>4026.279355</td>\n",
       "      <td>0.272080</td>\n",
       "      <td>2.645508</td>\n",
       "      <td>19209.161564</td>\n",
       "      <td>0.019209</td>\n",
       "      <td>506.429650</td>\n",
       "    </tr>\n",
       "    <tr>\n",
       "      <th>3</th>\n",
       "      <td>2020-w50</td>\n",
       "      <td>2020-12-19</td>\n",
       "      <td>40039.490294</td>\n",
       "      <td>17202.014589</td>\n",
       "      <td>2260.298489</td>\n",
       "      <td>289.426330</td>\n",
       "      <td>9921.927397</td>\n",
       "      <td>120.748901</td>\n",
       "      <td>3.582989</td>\n",
       "      <td>base run</td>\n",
       "      <td>6.015</td>\n",
       "      <td>19753.431893</td>\n",
       "      <td>0.261037</td>\n",
       "      <td>2.722366</td>\n",
       "      <td>96913.236313</td>\n",
       "      <td>0.096913</td>\n",
       "      <td>2549.724819</td>\n",
       "    </tr>\n",
       "    <tr>\n",
       "      <th>4</th>\n",
       "      <td>2020-w51</td>\n",
       "      <td>2020-12-26</td>\n",
       "      <td>153874.302268</td>\n",
       "      <td>73098.221748</td>\n",
       "      <td>10343.843468</td>\n",
       "      <td>1384.815387</td>\n",
       "      <td>46287.989901</td>\n",
       "      <td>614.828591</td>\n",
       "      <td>1.493612</td>\n",
       "      <td>base run</td>\n",
       "      <td>6.015</td>\n",
       "      <td>84827.586136</td>\n",
       "      <td>0.252816</td>\n",
       "      <td>3.018147</td>\n",
       "      <td>449270.263339</td>\n",
       "      <td>0.449270</td>\n",
       "      <td>11728.658855</td>\n",
       "    </tr>\n",
       "  </tbody>\n",
       "</table>\n",
       "</div>"
      ],
      "text/plain": [
       "       week       date        exposed    infected_a    infected_b  \\\n",
       "0  2020-w47 2020-11-28     291.830718    129.122106      8.423717   \n",
       "1  2020-w48 2020-12-05    1666.474942    689.586938     82.797428   \n",
       "2  2020-w49 2020-12-12    8374.378297   3515.789647    450.639540   \n",
       "3  2020-w50 2020-12-19   40039.490294  17202.014589   2260.298489   \n",
       "4  2020-w51 2020-12-26  153874.302268  73098.221748  10343.843468   \n",
       "\n",
       "    infected_c     recovered        dead      asymp    source  R effective  \\\n",
       "0     0.346466     34.543353    0.023440  30.000000  base run        6.015   \n",
       "1     8.948065    352.659738    2.374508  20.618678  base run        6.015   \n",
       "2    55.790110   1955.367467   20.775349   8.595144  base run        6.015   \n",
       "3   289.426330   9921.927397  120.748901   3.582989  base run        6.015   \n",
       "4  1384.815387  46287.989901  614.828591   1.493612  base run        6.015   \n",
       "\n",
       "       infected  pct_change  doubling_time      cum_cases  pct_infected  \\\n",
       "0    161.256313         NaN            NaN     529.810341      0.000530   \n",
       "1    791.072005    0.270425       3.572545    3583.034527      0.003583   \n",
       "2   4026.279355    0.272080       2.645508   19209.161564      0.019209   \n",
       "3  19753.431893    0.261037       2.722366   96913.236313      0.096913   \n",
       "4  84827.586136    0.252816       3.018147  449270.263339      0.449270   \n",
       "\n",
       "   Hospitalized  \n",
       "0      8.770184  \n",
       "1     91.745493  \n",
       "2    506.429650  \n",
       "3   2549.724819  \n",
       "4  11728.658855  "
      ]
     },
     "execution_count": 144,
     "metadata": {},
     "output_type": "execute_result"
    }
   ],
   "source": [
    "flu_weekly = display.groupby('week').max().reset_index()\n",
    "flu_weekly['Hospitalized'] = flu_weekly['infected_b'] + flu_weekly['infected_c']\n",
    "flu_weekly.head()"
   ]
  },
  {
   "cell_type": "code",
   "execution_count": 145,
   "metadata": {},
   "outputs": [],
   "source": [
    "flu_weekly.rename(columns = {\n",
    "    'infected': 'Current cases',\n",
    "    'cum_cases': 'Total cases',\n",
    "    'dead': 'Dead',\n",
    "    'week': 'Week',\n",
    "}, inplace=True)\n",
    "\n",
    "output_cols = ['Week', 'Total cases', 'Current cases', 'Hospitalized', 'Dead',]\n",
    "\n",
    "flu_weekly = flu_weekly.loc[:, output_cols]"
   ]
  },
  {
   "cell_type": "code",
   "execution_count": 146,
   "metadata": {},
   "outputs": [],
   "source": [
    "flu_weekly.to_csv('pox_weekly_summary-20201204.csv', index=False)"
   ]
  },
  {
   "cell_type": "code",
   "execution_count": 41,
   "metadata": {},
   "outputs": [
    {
     "name": "stdout",
     "output_type": "stream",
     "text": [
      "0.105525\n",
      "0.12\n",
      "0.1\n"
     ]
    }
   ],
   "source": [
    "print(0.67 * 0.3 * 0.7 * 0.75)\n",
    "print(0.3 * 0.5 * 0.8)\n",
    "\n",
    "print(0.25 * 0.5 * 0.8)"
   ]
  },
  {
   "cell_type": "code",
   "execution_count": 54,
   "metadata": {},
   "outputs": [
    {
     "data": {
      "text/html": [
       "<div style=\"width:100%;\"><div style=\"position:relative;width:100%;height:0;padding-bottom:60%;\"><span style=\"color:#565656\">Make this Notebook Trusted to load map: File -> Trust Notebook</span><iframe src=\"about:blank\" style=\"position:absolute;width:100%;height:100%;left:0;top:0;border:none !important;\" data-html=PCFET0NUWVBFIGh0bWw+CjxoZWFkPiAgICAKICAgIDxtZXRhIGh0dHAtZXF1aXY9ImNvbnRlbnQtdHlwZSIgY29udGVudD0idGV4dC9odG1sOyBjaGFyc2V0PVVURi04IiAvPgogICAgCiAgICAgICAgPHNjcmlwdD4KICAgICAgICAgICAgTF9OT19UT1VDSCA9IGZhbHNlOwogICAgICAgICAgICBMX0RJU0FCTEVfM0QgPSBmYWxzZTsKICAgICAgICA8L3NjcmlwdD4KICAgIAogICAgPHNjcmlwdCBzcmM9Imh0dHBzOi8vY2RuLmpzZGVsaXZyLm5ldC9ucG0vbGVhZmxldEAxLjYuMC9kaXN0L2xlYWZsZXQuanMiPjwvc2NyaXB0PgogICAgPHNjcmlwdCBzcmM9Imh0dHBzOi8vY29kZS5qcXVlcnkuY29tL2pxdWVyeS0xLjEyLjQubWluLmpzIj48L3NjcmlwdD4KICAgIDxzY3JpcHQgc3JjPSJodHRwczovL21heGNkbi5ib290c3RyYXBjZG4uY29tL2Jvb3RzdHJhcC8zLjIuMC9qcy9ib290c3RyYXAubWluLmpzIj48L3NjcmlwdD4KICAgIDxzY3JpcHQgc3JjPSJodHRwczovL2NkbmpzLmNsb3VkZmxhcmUuY29tL2FqYXgvbGlicy9MZWFmbGV0LmF3ZXNvbWUtbWFya2Vycy8yLjAuMi9sZWFmbGV0LmF3ZXNvbWUtbWFya2Vycy5qcyI+PC9zY3JpcHQ+CiAgICA8bGluayByZWw9InN0eWxlc2hlZXQiIGhyZWY9Imh0dHBzOi8vY2RuLmpzZGVsaXZyLm5ldC9ucG0vbGVhZmxldEAxLjYuMC9kaXN0L2xlYWZsZXQuY3NzIi8+CiAgICA8bGluayByZWw9InN0eWxlc2hlZXQiIGhyZWY9Imh0dHBzOi8vbWF4Y2RuLmJvb3RzdHJhcGNkbi5jb20vYm9vdHN0cmFwLzMuMi4wL2Nzcy9ib290c3RyYXAubWluLmNzcyIvPgogICAgPGxpbmsgcmVsPSJzdHlsZXNoZWV0IiBocmVmPSJodHRwczovL21heGNkbi5ib290c3RyYXBjZG4uY29tL2Jvb3RzdHJhcC8zLjIuMC9jc3MvYm9vdHN0cmFwLXRoZW1lLm1pbi5jc3MiLz4KICAgIDxsaW5rIHJlbD0ic3R5bGVzaGVldCIgaHJlZj0iaHR0cHM6Ly9tYXhjZG4uYm9vdHN0cmFwY2RuLmNvbS9mb250LWF3ZXNvbWUvNC42LjMvY3NzL2ZvbnQtYXdlc29tZS5taW4uY3NzIi8+CiAgICA8bGluayByZWw9InN0eWxlc2hlZXQiIGhyZWY9Imh0dHBzOi8vY2RuanMuY2xvdWRmbGFyZS5jb20vYWpheC9saWJzL0xlYWZsZXQuYXdlc29tZS1tYXJrZXJzLzIuMC4yL2xlYWZsZXQuYXdlc29tZS1tYXJrZXJzLmNzcyIvPgogICAgPGxpbmsgcmVsPSJzdHlsZXNoZWV0IiBocmVmPSJodHRwczovL3Jhd2Nkbi5naXRoYWNrLmNvbS9weXRob24tdmlzdWFsaXphdGlvbi9mb2xpdW0vbWFzdGVyL2ZvbGl1bS90ZW1wbGF0ZXMvbGVhZmxldC5hd2Vzb21lLnJvdGF0ZS5jc3MiLz4KICAgIDxzdHlsZT5odG1sLCBib2R5IHt3aWR0aDogMTAwJTtoZWlnaHQ6IDEwMCU7bWFyZ2luOiAwO3BhZGRpbmc6IDA7fTwvc3R5bGU+CiAgICA8c3R5bGU+I21hcCB7cG9zaXRpb246YWJzb2x1dGU7dG9wOjA7Ym90dG9tOjA7cmlnaHQ6MDtsZWZ0OjA7fTwvc3R5bGU+CiAgICAKICAgICAgICAgICAgPG1ldGEgbmFtZT0idmlld3BvcnQiIGNvbnRlbnQ9IndpZHRoPWRldmljZS13aWR0aCwKICAgICAgICAgICAgICAgIGluaXRpYWwtc2NhbGU9MS4wLCBtYXhpbXVtLXNjYWxlPTEuMCwgdXNlci1zY2FsYWJsZT1ubyIgLz4KICAgICAgICAgICAgPHN0eWxlPgogICAgICAgICAgICAgICAgI21hcF8zNWIzOTdiZmI5YWQ0NWYxOGVmOTRlMGQ3ZTE1NWRjNSB7CiAgICAgICAgICAgICAgICAgICAgcG9zaXRpb246IHJlbGF0aXZlOwogICAgICAgICAgICAgICAgICAgIHdpZHRoOiAxMDAuMCU7CiAgICAgICAgICAgICAgICAgICAgaGVpZ2h0OiAxMDAuMCU7CiAgICAgICAgICAgICAgICAgICAgbGVmdDogMC4wJTsKICAgICAgICAgICAgICAgICAgICB0b3A6IDAuMCU7CiAgICAgICAgICAgICAgICB9CiAgICAgICAgICAgIDwvc3R5bGU+CiAgICAgICAgCjwvaGVhZD4KPGJvZHk+ICAgIAogICAgCiAgICAgICAgICAgIDxkaXYgY2xhc3M9ImZvbGl1bS1tYXAiIGlkPSJtYXBfMzViMzk3YmZiOWFkNDVmMThlZjk0ZTBkN2UxNTVkYzUiID48L2Rpdj4KICAgICAgICAKPC9ib2R5Pgo8c2NyaXB0PiAgICAKICAgIAogICAgICAgICAgICB2YXIgbWFwXzM1YjM5N2JmYjlhZDQ1ZjE4ZWY5NGUwZDdlMTU1ZGM1ID0gTC5tYXAoCiAgICAgICAgICAgICAgICAibWFwXzM1YjM5N2JmYjlhZDQ1ZjE4ZWY5NGUwZDdlMTU1ZGM1IiwKICAgICAgICAgICAgICAgIHsKICAgICAgICAgICAgICAgICAgICBjZW50ZXI6IFs0NS4zNzIsIC0xMjEuNjk3Ml0sCiAgICAgICAgICAgICAgICAgICAgY3JzOiBMLkNSUy5FUFNHMzg1NywKICAgICAgICAgICAgICAgICAgICB6b29tOiAxMiwKICAgICAgICAgICAgICAgICAgICB6b29tQ29udHJvbDogdHJ1ZSwKICAgICAgICAgICAgICAgICAgICBwcmVmZXJDYW52YXM6IGZhbHNlLAogICAgICAgICAgICAgICAgfQogICAgICAgICAgICApOwoKICAgICAgICAgICAgCgogICAgICAgIAogICAgCiAgICAgICAgICAgIHZhciB0aWxlX2xheWVyX2I2NjdhNjNkNWFhZjRlMWVhZDRiNjI3NjlkZWUzMGJhID0gTC50aWxlTGF5ZXIoCiAgICAgICAgICAgICAgICAiaHR0cHM6Ly9zdGFtZW4tdGlsZXMte3N9LmEuc3NsLmZhc3RseS5uZXQvdGVycmFpbi97en0ve3h9L3t5fS5qcGciLAogICAgICAgICAgICAgICAgeyJhdHRyaWJ1dGlvbiI6ICJNYXAgdGlsZXMgYnkgXHUwMDNjYSBocmVmPVwiaHR0cDovL3N0YW1lbi5jb21cIlx1MDAzZVN0YW1lbiBEZXNpZ25cdTAwM2MvYVx1MDAzZSwgdW5kZXIgXHUwMDNjYSBocmVmPVwiaHR0cDovL2NyZWF0aXZlY29tbW9ucy5vcmcvbGljZW5zZXMvYnkvMy4wXCJcdTAwM2VDQyBCWSAzLjBcdTAwM2MvYVx1MDAzZS4gRGF0YSBieSBcdTAwMjZjb3B5OyBcdTAwM2NhIGhyZWY9XCJodHRwOi8vb3BlbnN0cmVldG1hcC5vcmdcIlx1MDAzZU9wZW5TdHJlZXRNYXBcdTAwM2MvYVx1MDAzZSwgdW5kZXIgXHUwMDNjYSBocmVmPVwiaHR0cDovL2NyZWF0aXZlY29tbW9ucy5vcmcvbGljZW5zZXMvYnktc2EvMy4wXCJcdTAwM2VDQyBCWSBTQVx1MDAzYy9hXHUwMDNlLiIsICJkZXRlY3RSZXRpbmEiOiBmYWxzZSwgIm1heE5hdGl2ZVpvb20iOiAxOCwgIm1heFpvb20iOiAxOCwgIm1pblpvb20iOiAwLCAibm9XcmFwIjogZmFsc2UsICJvcGFjaXR5IjogMSwgInN1YmRvbWFpbnMiOiAiYWJjIiwgInRtcyI6IGZhbHNlfQogICAgICAgICAgICApLmFkZFRvKG1hcF8zNWIzOTdiZmI5YWQ0NWYxOGVmOTRlMGQ3ZTE1NWRjNSk7CiAgICAgICAgCiAgICAKICAgICAgICAgICAgdmFyIG1hcmtlcl9hNTA1YTlhNjdmYjI0MjFmOTQ3ZTAxZTNhZmU4NmYwYyA9IEwubWFya2VyKAogICAgICAgICAgICAgICAgWzQ1LjMyODgsIC0xMjEuNjYyNV0sCiAgICAgICAgICAgICAgICB7fQogICAgICAgICAgICApLmFkZFRvKG1hcF8zNWIzOTdiZmI5YWQ0NWYxOGVmOTRlMGQ3ZTE1NWRjNSk7CiAgICAgICAgCiAgICAKICAgICAgICB2YXIgY3VzdG9tX2ljb25fMzU2NzFkMDM0NWJkNDUwYThiYjhlZWFjYTI3NGUzODkgPSBMLmljb24oeyJpY29uQW5jaG9yIjogWzIyLCA5NF0sICJpY29uU2l6ZSI6IFszOCwgOTVdLCAiaWNvblVybCI6ICJodHRwOi8vbGVhZmxldGpzLmNvbS9leGFtcGxlcy9jdXN0b20taWNvbnMvbGVhZi1yZWQucG5nIiwgInBvcHVwQW5jaG9yIjogWy0zLCAtNzZdLCAic2hhZG93QW5jaG9yIjogWzQsIDYyXSwgInNoYWRvd1NpemUiOiBbNTAsIDY0XSwgInNoYWRvd1VybCI6ICJodHRwOi8vbGVhZmxldGpzLmNvbS9leGFtcGxlcy9jdXN0b20taWNvbnMvbGVhZi1zaGFkb3cucG5nIn0pOwogICAgICAgIG1hcmtlcl9hNTA1YTlhNjdmYjI0MjFmOTQ3ZTAxZTNhZmU4NmYwYy5zZXRJY29uKGN1c3RvbV9pY29uXzM1NjcxZDAzNDViZDQ1MGE4YmI4ZWVhY2EyNzRlMzg5KTsKICAgICAgICAKICAgIAogICAgICAgIHZhciBwb3B1cF8wMTIzY2MyNmI3NjQ0M2ZiOTA5ODM2MmFjYTA5MDIzNyA9IEwucG9wdXAoeyJtYXhXaWR0aCI6ICIxMDAlIn0pOwoKICAgICAgICAKICAgICAgICAgICAgdmFyIGh0bWxfMDEzZTM2ZGMyYjllNDQ2OGI2NGIzYTcwZWEwOTg1M2EgPSAkKGA8ZGl2IGlkPSJodG1sXzAxM2UzNmRjMmI5ZTQ0NjhiNjRiM2E3MGVhMDk4NTNhIiBzdHlsZT0id2lkdGg6IDEwMC4wJTsgaGVpZ2h0OiAxMDAuMCU7Ij5NdC4gSG9vZCBNZWFkb3dzPC9kaXY+YClbMF07CiAgICAgICAgICAgIHBvcHVwXzAxMjNjYzI2Yjc2NDQzZmI5MDk4MzYyYWNhMDkwMjM3LnNldENvbnRlbnQoaHRtbF8wMTNlMzZkYzJiOWU0NDY4YjY0YjNhNzBlYTA5ODUzYSk7CiAgICAgICAgCgogICAgICAgIG1hcmtlcl9hNTA1YTlhNjdmYjI0MjFmOTQ3ZTAxZTNhZmU4NmYwYy5iaW5kUG9wdXAocG9wdXBfMDEyM2NjMjZiNzY0NDNmYjkwOTgzNjJhY2EwOTAyMzcpCiAgICAgICAgOwoKICAgICAgICAKICAgIAo8L3NjcmlwdD4= onload=\"this.contentDocument.open();this.contentDocument.write(atob(this.getAttribute('data-html')));this.contentDocument.close();\" allowfullscreen webkitallowfullscreen mozallowfullscreen></iframe></div></div>"
      ],
      "text/plain": [
       "<folium.folium.Map at 0x12a9e1160>"
      ]
     },
     "execution_count": 54,
     "metadata": {},
     "output_type": "execute_result"
    }
   ],
   "source": [
    "import folium\n",
    "from folium.features import CustomIcon\n",
    "\n",
    "\n",
    "m = folium.Map(location=[45.372, -121.6972], zoom_start=12, tiles=\"Stamen Terrain\")\n",
    "\n",
    "url = \"http://leafletjs.com/examples/custom-icons/{}\".format\n",
    "icon_image = url(\"leaf-red.png\")\n",
    "shadow_image = url(\"leaf-shadow.png\")\n",
    "\n",
    "icon = CustomIcon(\n",
    "    icon_image,\n",
    "    icon_size=(38, 95),\n",
    "    icon_anchor=(22, 94),\n",
    "    shadow_image=shadow_image,\n",
    "    shadow_size=(50, 64),\n",
    "    shadow_anchor=(4, 62),\n",
    "    popup_anchor=(-3, -76),\n",
    ")\n",
    "\n",
    "marker = folium.Marker(\n",
    "    location=[45.3288, -121.6625], icon=icon, popup=\"Mt. Hood Meadows\"\n",
    ")\n",
    "\n",
    "\n",
    "m.add_child(marker)\n",
    "\n",
    "m"
   ]
  },
  {
   "cell_type": "code",
   "execution_count": 55,
   "metadata": {},
   "outputs": [],
   "source": [
    "world_centroids = pd.read_csv('country_centroids_az8.csv')\n",
    "\n",
    "world_cols = ['sovereignt', 'Longitude', 'Latitude', 'pop_est']\n",
    "world = world_centroids.loc[:, world_cols]\n",
    "\n",
    "world.rename(columns = {\n",
    "    'sovereignt': 'country', \n",
    "    'Latitude': 'lat',\n",
    "    'Longitude': 'lon',\n",
    "    'pop_est': 'outbreak',\n",
    "}, inplace=True)\n",
    "\n",
    "world = world.sort_values('outbreak').drop_duplicates(subset='country', keep='last')\n",
    "\n",
    "world.loc[world['country'] == 'United States of America', 'lat'] = 39.8283\n",
    "world.loc[world['country'] == 'United States of America', 'lon'] = -98.5475"
   ]
  },
  {
   "cell_type": "code",
   "execution_count": 57,
   "metadata": {},
   "outputs": [],
   "source": [
    "r_value = ['high', 'med', 'low']\n",
    "\n",
    "world['r_range'] = np.random.choice(r_value, size=len(world))"
   ]
  },
  {
   "cell_type": "code",
   "execution_count": 58,
   "metadata": {},
   "outputs": [],
   "source": [
    "low = world.loc[(world['r_range'] == 'low'), :]\n",
    "med = world.loc[(world['r_range'] == 'med'), :]\n",
    "high = world.loc[(world['r_range'] == 'high'), :]"
   ]
  },
  {
   "cell_type": "code",
   "execution_count": 158,
   "metadata": {},
   "outputs": [],
   "source": [
    "high_dict = {\n",
    "    'presymptomatic_period': 6,\n",
    "    'duration_mild_infections': 4,\n",
    "    'hospital_time_recovery': 4,\n",
    "    'icu_time_death': 2,\n",
    "    'beta_asymp': 0.8,\n",
    "    'beta_mild': 0.8,\n",
    "    'beta_hospitalized': 0.1,\n",
    "    'beta_icu': 0.1,\n",
    "    'percent_asymp': 0,\n",
    "    'hospitalization_rate': 0.25,\n",
    "    'hospitalized_cases_requiring_icu_care': 0.5,\n",
    "    'death_rate_for_critical': 0.8,\n",
    "}\n",
    "\n",
    "med_dict = {\n",
    "    'presymptomatic_period': 6,\n",
    "    'duration_mild_infections': 4,\n",
    "    'hospital_time_recovery': 4,\n",
    "    'icu_time_death': 2,\n",
    "    'beta_asymp': 0.4,\n",
    "    'beta_mild': 0.4,\n",
    "    'beta_hospitalized': 0.1,\n",
    "    'beta_icu': 0.1,\n",
    "    'percent_asymp': 0,\n",
    "    'hospitalization_rate': 0.25,\n",
    "    'hospitalized_cases_requiring_icu_care': 0.5,\n",
    "    'death_rate_for_critical': 0.8,\n",
    "}\n",
    "\n",
    "low_dict = {\n",
    "    'presymptomatic_period': 6,\n",
    "    'duration_mild_infections': 4,\n",
    "    'hospital_time_recovery': 4,\n",
    "    'icu_time_death': 2,\n",
    "    'beta_asymp': 0.13,\n",
    "    'beta_mild': 0.13,\n",
    "    'beta_hospitalized': 0.1,\n",
    "    'beta_icu': 0.1,\n",
    "    'percent_asymp': 0,\n",
    "    'hospitalization_rate': 0.25,\n",
    "    'hospitalized_cases_requiring_icu_care': 0.5,\n",
    "    'death_rate_for_critical': 0.8,\n",
    "}\n",
    "\n",
    "disease_params = high_dict"
   ]
  },
  {
   "cell_type": "code",
   "execution_count": 159,
   "metadata": {},
   "outputs": [],
   "source": [
    "def gen_outbreak(countries, name, start, interventions=[]):\n",
    "    city = name\n",
    "    run_type = 'country'\n",
    "    \n",
    "    pop = countries['outbreak'].sum()\n",
    "    cases = pop * 0.00001\n",
    "\n",
    "    city_timeseries = {\n",
    "        start: {'state': city, 'fips': '123', \n",
    "                       'cases': cases, \n",
    "                       'deaths': 0, \n",
    "                       'estimated_recovered': 0,\n",
    "                       'active': cases,\n",
    "                       'estimated_hospitalized': 0,\n",
    "                       'estimated_infected': 0, \n",
    "                      },\n",
    "    }\n",
    "\n",
    "    #d = run_model_with_params(city, 'city', city_timeseries, disease_params)\n",
    "\n",
    "    #print(d['R effective'].max())\n",
    "    #print(d['R effective'].min())\n",
    "\n",
    "\n",
    "    modelrun = ModelRun(city, run_type, population=pop)\n",
    "    modelrun.get_data(city_timeseries)\n",
    "    modelrun.set_epi_model(\"asymp\")\n",
    "\n",
    "    for param_name, param_value in disease_params.items():\n",
    "        setattr(modelrun, param_name, param_value)\n",
    "        \n",
    "    modelrun.epi_run.generate_epi_params()\n",
    "    params = modelrun.epi_run.EpiParameters\n",
    "    \n",
    "    modelrun.run()\n",
    "        \n",
    "    for intervention in interventions:\n",
    "        modelrun.add_intervention(intervention)\n",
    "            \n",
    "    if len(interventions) > 0:\n",
    "        modelrun.run_all_interventions()\n",
    "        intervention_name = interventions[-1].system_name\n",
    "        display = modelrun.interventions[intervention_name].display_df.copy()\n",
    "\n",
    "    else:\n",
    "        display = modelrun.epi_run.display_df.copy()\n",
    "\n",
    "    display[\"cum_cases\"] = display[\"infected\"].cumsum()\n",
    "\n",
    "    display[\"pct_infected\"] = display[\"cum_cases\"] / modelrun.population\n",
    "    \n",
    "    return display"
   ]
  },
  {
   "cell_type": "code",
   "execution_count": 160,
   "metadata": {},
   "outputs": [],
   "source": [
    "from ModelClasses import ModelTypes, EpiParams, Intervention"
   ]
  },
  {
   "cell_type": "code",
   "execution_count": 168,
   "metadata": {},
   "outputs": [
    {
     "name": "stderr",
     "output_type": "stream",
     "text": [
      "/Users/trae/.virtualenvs/ray-covid/lib/python3.8/site-packages/pandas/core/indexing.py:966: SettingWithCopyWarning: \n",
      "A value is trying to be set on a copy of a slice from a DataFrame.\n",
      "Try using .loc[row_indexer,col_indexer] = value instead\n",
      "\n",
      "See the caveats in the documentation: https://pandas.pydata.org/pandas-docs/stable/user_guide/indexing.html#returning-a-view-versus-a-copy\n",
      "  self.obj[item] = s\n",
      "<epi_models.TalusSEIRClass.InterventionRun object at 0x12d219040>\n",
      "0      low_countries\n",
      "1      low_countries\n",
      "2      low_countries\n",
      "3      low_countries\n",
      "4      low_countries\n",
      "           ...      \n",
      "360    low_countries\n",
      "361    low_countries\n",
      "362    low_countries\n",
      "363    low_countries\n",
      "364    low_countries\n",
      "Name: source, Length: 365, dtype: object\n"
     ]
    }
   ],
   "source": [
    "low.loc[:, 'percent_of_total'] = low['outbreak'] / low['outbreak'].sum()\n",
    "\n",
    "low_params = EpiParams(beta_mild=0.13, beta_asymp=0)\n",
    "\n",
    "low_intervention = Intervention(\n",
    "    name='low_countries',\n",
    "    system_name='low_2021_06_15',\n",
    "    intervention_type='intervention',\n",
    "    startdate='2021-06-15',\n",
    "    intervention_start_date = '2021-06-15',\n",
    "    model_start_date = '2021-06-15',\n",
    "    params=low_params,\n",
    ")\n",
    "\n",
    "low_display = gen_outbreak(low, 'low countries', '2021-06-01', interventions=[low_intervention])"
   ]
  },
  {
   "cell_type": "code",
   "execution_count": 169,
   "metadata": {},
   "outputs": [
    {
     "data": {
      "text/html": [
       "<div>\n",
       "<style scoped>\n",
       "    .dataframe tbody tr th:only-of-type {\n",
       "        vertical-align: middle;\n",
       "    }\n",
       "\n",
       "    .dataframe tbody tr th {\n",
       "        vertical-align: top;\n",
       "    }\n",
       "\n",
       "    .dataframe thead th {\n",
       "        text-align: right;\n",
       "    }\n",
       "</style>\n",
       "<table border=\"1\" class=\"dataframe\">\n",
       "  <thead>\n",
       "    <tr style=\"text-align: right;\">\n",
       "      <th></th>\n",
       "      <th>date</th>\n",
       "      <th>exposed</th>\n",
       "      <th>infected_a</th>\n",
       "      <th>infected_b</th>\n",
       "      <th>infected_c</th>\n",
       "      <th>recovered</th>\n",
       "      <th>dead</th>\n",
       "      <th>asymp</th>\n",
       "      <th>source</th>\n",
       "      <th>R effective</th>\n",
       "      <th>infected</th>\n",
       "      <th>pct_change</th>\n",
       "      <th>doubling_time</th>\n",
       "      <th>cum_cases</th>\n",
       "      <th>pct_infected</th>\n",
       "    </tr>\n",
       "  </thead>\n",
       "  <tbody>\n",
       "    <tr>\n",
       "      <th>0</th>\n",
       "      <td>2021-06-01</td>\n",
       "      <td>40060.708400</td>\n",
       "      <td>40060.708400</td>\n",
       "      <td>0.000000</td>\n",
       "      <td>0.000000</td>\n",
       "      <td>0.000000</td>\n",
       "      <td>0.000000</td>\n",
       "      <td>0.000000</td>\n",
       "      <td>actuals</td>\n",
       "      <td>3.325</td>\n",
       "      <td>40060.708400</td>\n",
       "      <td>NaN</td>\n",
       "      <td>NaN</td>\n",
       "      <td>40060.708400</td>\n",
       "      <td>0.000010</td>\n",
       "    </tr>\n",
       "    <tr>\n",
       "      <th>0</th>\n",
       "      <td>2021-06-01</td>\n",
       "      <td>40060.708400</td>\n",
       "      <td>40060.708400</td>\n",
       "      <td>0.000000</td>\n",
       "      <td>0.000000</td>\n",
       "      <td>0.000000</td>\n",
       "      <td>0.000000</td>\n",
       "      <td>12018.212520</td>\n",
       "      <td>base run</td>\n",
       "      <td>3.325</td>\n",
       "      <td>52078.920920</td>\n",
       "      <td>NaN</td>\n",
       "      <td>NaN</td>\n",
       "      <td>92139.629320</td>\n",
       "      <td>0.000023</td>\n",
       "    </tr>\n",
       "    <tr>\n",
       "      <th>1</th>\n",
       "      <td>2021-06-02</td>\n",
       "      <td>71088.831730</td>\n",
       "      <td>39574.665843</td>\n",
       "      <td>2177.151538</td>\n",
       "      <td>120.589025</td>\n",
       "      <td>9584.579708</td>\n",
       "      <td>17.137503</td>\n",
       "      <td>9963.448128</td>\n",
       "      <td>base run</td>\n",
       "      <td>3.325</td>\n",
       "      <td>51835.854534</td>\n",
       "      <td>NaN</td>\n",
       "      <td>NaN</td>\n",
       "      <td>143975.483854</td>\n",
       "      <td>0.000036</td>\n",
       "    </tr>\n",
       "    <tr>\n",
       "      <th>2</th>\n",
       "      <td>2021-06-03</td>\n",
       "      <td>97548.218889</td>\n",
       "      <td>43366.703647</td>\n",
       "      <td>3977.407904</td>\n",
       "      <td>384.894005</td>\n",
       "      <td>19421.295440</td>\n",
       "      <td>115.176643</td>\n",
       "      <td>8259.988615</td>\n",
       "      <td>base run</td>\n",
       "      <td>3.325</td>\n",
       "      <td>55988.994171</td>\n",
       "      <td>NaN</td>\n",
       "      <td>NaN</td>\n",
       "      <td>199964.478025</td>\n",
       "      <td>0.000050</td>\n",
       "    </tr>\n",
       "    <tr>\n",
       "      <th>3</th>\n",
       "      <td>2021-06-04</td>\n",
       "      <td>122957.171943</td>\n",
       "      <td>50107.424628</td>\n",
       "      <td>5678.230192</td>\n",
       "      <td>715.302577</td>\n",
       "      <td>30215.132549</td>\n",
       "      <td>333.653610</td>\n",
       "      <td>6847.771078</td>\n",
       "      <td>base run</td>\n",
       "      <td>3.325</td>\n",
       "      <td>63348.728476</td>\n",
       "      <td>NaN</td>\n",
       "      <td>NaN</td>\n",
       "      <td>263313.206501</td>\n",
       "      <td>0.000066</td>\n",
       "    </tr>\n",
       "  </tbody>\n",
       "</table>\n",
       "</div>"
      ],
      "text/plain": [
       "         date        exposed    infected_a   infected_b  infected_c  \\\n",
       "0  2021-06-01   40060.708400  40060.708400     0.000000    0.000000   \n",
       "0  2021-06-01   40060.708400  40060.708400     0.000000    0.000000   \n",
       "1  2021-06-02   71088.831730  39574.665843  2177.151538  120.589025   \n",
       "2  2021-06-03   97548.218889  43366.703647  3977.407904  384.894005   \n",
       "3  2021-06-04  122957.171943  50107.424628  5678.230192  715.302577   \n",
       "\n",
       "      recovered        dead         asymp    source  R effective  \\\n",
       "0      0.000000    0.000000      0.000000   actuals        3.325   \n",
       "0      0.000000    0.000000  12018.212520  base run        3.325   \n",
       "1   9584.579708   17.137503   9963.448128  base run        3.325   \n",
       "2  19421.295440  115.176643   8259.988615  base run        3.325   \n",
       "3  30215.132549  333.653610   6847.771078  base run        3.325   \n",
       "\n",
       "       infected  pct_change  doubling_time      cum_cases  pct_infected  \n",
       "0  40060.708400         NaN            NaN   40060.708400      0.000010  \n",
       "0  52078.920920         NaN            NaN   92139.629320      0.000023  \n",
       "1  51835.854534         NaN            NaN  143975.483854      0.000036  \n",
       "2  55988.994171         NaN            NaN  199964.478025      0.000050  \n",
       "3  63348.728476         NaN            NaN  263313.206501      0.000066  "
      ]
     },
     "execution_count": 169,
     "metadata": {},
     "output_type": "execute_result"
    }
   ],
   "source": [
    "low_display.head()"
   ]
  },
  {
   "cell_type": "code",
   "execution_count": 170,
   "metadata": {},
   "outputs": [
    {
     "name": "stdout",
     "output_type": "stream",
     "text": [
      "first case\n",
      "2021-06-01 00:00:00\n",
      "peak in hospitalizations\n",
      "2021-06-19T00:00:00.000000000\n",
      "60,547.479893352946\n",
      "peak in icu\n",
      "2021-06-22T00:00:00.000000000\n",
      "14,647.167111647725\n",
      "deaths\n",
      "230,592.38678419724\n",
      "interventions: None\n"
     ]
    },
    {
     "data": {
      "image/png": "[encoded data removed]",
      "text/plain": [
       "<Figure size 1152x1008 with 2 Axes>"
      ]
     },
     "metadata": {
      "needs_background": "light"
     },
     "output_type": "display_data"
    }
   ],
   "source": [
    "cols = [\"infected_a\", \"R effective\", \"dead\"]\n",
    "prep_plot(low_display, cols, line_day=datetime(2021,2,19))"
   ]
  },
  {
   "cell_type": "code",
   "execution_count": 56,
   "metadata": {},
   "outputs": [],
   "source": [
    "m3 = folium.Map(\n",
    "    location=[0, 0],\n",
    "    tiles='CartoDB positron',\n",
    "    zoom_start=3\n",
    ")\n",
    "\n",
    "def add_marker_3(row):\n",
    "    \n",
    "    folium.CircleMarker(\n",
    "        location=[row['lat'], row['lon']],\n",
    "        radius=row['outbreak'] / 100000,\n",
    "        popup=row['country'],\n",
    "        color='#FF6347',\n",
    "        fill=True,\n",
    "        fill_color='#FF6347',\n",
    "    ).add_to(m3)\n",
    "    \n",
    "    return"
   ]
  },
  {
   "cell_type": "code",
   "execution_count": null,
   "metadata": {},
   "outputs": [],
   "source": []
  }
 ],
 "metadata": {
  "kernelspec": {
   "display_name": "Python 3",
   "language": "python",
   "name": "python3"
  },
  "language_info": {
   "codemirror_mode": {
    "name": "ipython",
    "version": 3
   },
   "file_extension": ".py",
   "mimetype": "text/x-python",
   "name": "python",
   "nbconvert_exporter": "python",
   "pygments_lexer": "ipython3",
   "version": "3.8.6"
  }
 },
 "nbformat": 4,
 "nbformat_minor": 4
}
