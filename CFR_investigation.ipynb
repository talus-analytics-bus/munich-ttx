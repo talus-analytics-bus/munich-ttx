{
 "cells": [
  {
   "cell_type": "code",
   "execution_count": 2,
   "metadata": {},
   "outputs": [],
   "source": [
    "import requests\n",
    "import json"
   ]
  },
  {
   "cell_type": "code",
   "execution_count": 9,
   "metadata": {},
   "outputs": [],
   "source": [
    "import pandas as pd"
   ]
  },
  {
   "cell_type": "code",
   "execution_count": 82,
   "metadata": {},
   "outputs": [],
   "source": [
    "import seaborn as sb\n",
    "\n",
    "sb.set(rc={'figure.figsize':(11,8)})"
   ]
  },
  {
   "cell_type": "code",
   "execution_count": 391,
   "metadata": {},
   "outputs": [],
   "source": [
    "al_url = 'https://test-amp-model-api.covidamp.org/state_base_model/AL'\n",
    "\n",
    "#al_url = 'http://127.0.0.1:8000/state_base_model/AL'\n",
    "r_json = requests.get(al_url).json()"
   ]
  },
  {
   "cell_type": "code",
   "execution_count": 369,
   "metadata": {},
   "outputs": [],
   "source": [
    "date_url = 'https://amp-model-api.covidamp.org/update_date'\n",
    "\n",
    "date_json = requests.get(date_url).json()"
   ]
  },
  {
   "cell_type": "code",
   "execution_count": 370,
   "metadata": {},
   "outputs": [
    {
     "data": {
      "text/plain": [
       "{'last_data_update': '2020-07-20', 'last_policy_update': '2020-07-20'}"
      ]
     },
     "execution_count": 370,
     "metadata": {},
     "output_type": "execute_result"
    }
   ],
   "source": [
    "date_json"
   ]
  },
  {
   "cell_type": "code",
   "execution_count": 371,
   "metadata": {},
   "outputs": [
    {
     "data": {
      "text/plain": [
       "dict_keys(['modelrun', 'state', 'population', 'date', 'cases', 'deaths', 'counterfactual_cases', 'counterfactual_deaths', 'results', 'interventions'])"
      ]
     },
     "execution_count": 371,
     "metadata": {},
     "output_type": "execute_result"
    }
   ],
   "source": [
    "r_json.keys()"
   ]
  },
  {
   "cell_type": "code",
   "execution_count": 372,
   "metadata": {},
   "outputs": [],
   "source": [
    "actuals_df = pd.DataFrame(json.loads(r_json['results'][2]['run']))"
   ]
  },
  {
   "cell_type": "code",
   "execution_count": 373,
   "metadata": {},
   "outputs": [
    {
     "data": {
      "text/html": [
       "<div>\n",
       "<style scoped>\n",
       "    .dataframe tbody tr th:only-of-type {\n",
       "        vertical-align: middle;\n",
       "    }\n",
       "\n",
       "    .dataframe tbody tr th {\n",
       "        vertical-align: top;\n",
       "    }\n",
       "\n",
       "    .dataframe thead th {\n",
       "        text-align: right;\n",
       "    }\n",
       "</style>\n",
       "<table border=\"1\" class=\"dataframe\">\n",
       "  <thead>\n",
       "    <tr style=\"text-align: right;\">\n",
       "      <th></th>\n",
       "      <th>date</th>\n",
       "      <th>exposed</th>\n",
       "      <th>infected_a</th>\n",
       "      <th>infected_b</th>\n",
       "      <th>infected_c</th>\n",
       "      <th>recovered</th>\n",
       "      <th>dead</th>\n",
       "      <th>asymp</th>\n",
       "      <th>source</th>\n",
       "      <th>R effective</th>\n",
       "      <th>infected</th>\n",
       "      <th>pct_change</th>\n",
       "      <th>doubling_time</th>\n",
       "    </tr>\n",
       "  </thead>\n",
       "  <tbody>\n",
       "    <tr>\n",
       "      <th>0</th>\n",
       "      <td>1584057600000</td>\n",
       "      <td>4.1250</td>\n",
       "      <td>4.1250</td>\n",
       "      <td>1.50</td>\n",
       "      <td>0.3750</td>\n",
       "      <td>0.0</td>\n",
       "      <td>0.0</td>\n",
       "      <td>1.23750</td>\n",
       "      <td>actuals</td>\n",
       "      <td>2.53</td>\n",
       "      <td>7.23750</td>\n",
       "      <td>NaN</td>\n",
       "      <td>NaN</td>\n",
       "    </tr>\n",
       "    <tr>\n",
       "      <th>1</th>\n",
       "      <td>1584144000000</td>\n",
       "      <td>8.2500</td>\n",
       "      <td>8.2500</td>\n",
       "      <td>3.00</td>\n",
       "      <td>0.7500</td>\n",
       "      <td>0.0</td>\n",
       "      <td>0.0</td>\n",
       "      <td>2.47500</td>\n",
       "      <td>actuals</td>\n",
       "      <td>2.53</td>\n",
       "      <td>14.47500</td>\n",
       "      <td>NaN</td>\n",
       "      <td>NaN</td>\n",
       "    </tr>\n",
       "    <tr>\n",
       "      <th>2</th>\n",
       "      <td>1584230400000</td>\n",
       "      <td>15.8125</td>\n",
       "      <td>15.8125</td>\n",
       "      <td>5.75</td>\n",
       "      <td>1.4375</td>\n",
       "      <td>0.0</td>\n",
       "      <td>0.0</td>\n",
       "      <td>4.74375</td>\n",
       "      <td>actuals</td>\n",
       "      <td>2.53</td>\n",
       "      <td>27.74375</td>\n",
       "      <td>NaN</td>\n",
       "      <td>NaN</td>\n",
       "    </tr>\n",
       "    <tr>\n",
       "      <th>3</th>\n",
       "      <td>1584316800000</td>\n",
       "      <td>19.9375</td>\n",
       "      <td>19.9375</td>\n",
       "      <td>7.25</td>\n",
       "      <td>1.8125</td>\n",
       "      <td>0.0</td>\n",
       "      <td>0.0</td>\n",
       "      <td>5.98125</td>\n",
       "      <td>actuals</td>\n",
       "      <td>2.53</td>\n",
       "      <td>34.98125</td>\n",
       "      <td>NaN</td>\n",
       "      <td>NaN</td>\n",
       "    </tr>\n",
       "    <tr>\n",
       "      <th>4</th>\n",
       "      <td>1584403200000</td>\n",
       "      <td>26.8125</td>\n",
       "      <td>26.8125</td>\n",
       "      <td>9.75</td>\n",
       "      <td>2.4375</td>\n",
       "      <td>0.0</td>\n",
       "      <td>0.0</td>\n",
       "      <td>8.04375</td>\n",
       "      <td>actuals</td>\n",
       "      <td>2.53</td>\n",
       "      <td>47.04375</td>\n",
       "      <td>NaN</td>\n",
       "      <td>NaN</td>\n",
       "    </tr>\n",
       "  </tbody>\n",
       "</table>\n",
       "</div>"
      ],
      "text/plain": [
       "            date  exposed  infected_a  infected_b  infected_c  recovered  \\\n",
       "0  1584057600000   4.1250      4.1250        1.50      0.3750        0.0   \n",
       "1  1584144000000   8.2500      8.2500        3.00      0.7500        0.0   \n",
       "2  1584230400000  15.8125     15.8125        5.75      1.4375        0.0   \n",
       "3  1584316800000  19.9375     19.9375        7.25      1.8125        0.0   \n",
       "4  1584403200000  26.8125     26.8125        9.75      2.4375        0.0   \n",
       "\n",
       "   dead    asymp   source  R effective  infected  pct_change  doubling_time  \n",
       "0   0.0  1.23750  actuals         2.53   7.23750         NaN            NaN  \n",
       "1   0.0  2.47500  actuals         2.53  14.47500         NaN            NaN  \n",
       "2   0.0  4.74375  actuals         2.53  27.74375         NaN            NaN  \n",
       "3   0.0  5.98125  actuals         2.53  34.98125         NaN            NaN  \n",
       "4   0.0  8.04375  actuals         2.53  47.04375         NaN            NaN  "
      ]
     },
     "execution_count": 373,
     "metadata": {},
     "output_type": "execute_result"
    }
   ],
   "source": [
    "actuals_df.head()"
   ]
  },
  {
   "cell_type": "code",
   "execution_count": 392,
   "metadata": {},
   "outputs": [],
   "source": [
    "cf_df = pd.DataFrame(json.loads(r_json['results'][0]['run']))"
   ]
  },
  {
   "cell_type": "code",
   "execution_count": 393,
   "metadata": {},
   "outputs": [],
   "source": [
    "cf_df['date'] = pd.to_datetime(cf_df['date'], unit='ms')"
   ]
  },
  {
   "cell_type": "code",
   "execution_count": 394,
   "metadata": {},
   "outputs": [
    {
     "data": {
      "text/html": [
       "<div>\n",
       "<style scoped>\n",
       "    .dataframe tbody tr th:only-of-type {\n",
       "        vertical-align: middle;\n",
       "    }\n",
       "\n",
       "    .dataframe tbody tr th {\n",
       "        vertical-align: top;\n",
       "    }\n",
       "\n",
       "    .dataframe thead th {\n",
       "        text-align: right;\n",
       "    }\n",
       "</style>\n",
       "<table border=\"1\" class=\"dataframe\">\n",
       "  <thead>\n",
       "    <tr style=\"text-align: right;\">\n",
       "      <th></th>\n",
       "      <th>date</th>\n",
       "      <th>state</th>\n",
       "      <th>fips</th>\n",
       "      <th>cases</th>\n",
       "      <th>deaths</th>\n",
       "      <th>estimated_recovered</th>\n",
       "      <th>active</th>\n",
       "      <th>estimated_hospitalized</th>\n",
       "      <th>estimated_infected</th>\n",
       "      <th>exposed</th>\n",
       "      <th>...</th>\n",
       "      <th>infected_b</th>\n",
       "      <th>infected_c</th>\n",
       "      <th>recovered</th>\n",
       "      <th>dead</th>\n",
       "      <th>asymp</th>\n",
       "      <th>R effective</th>\n",
       "      <th>source</th>\n",
       "      <th>infected</th>\n",
       "      <th>pct_change</th>\n",
       "      <th>doubling_time</th>\n",
       "    </tr>\n",
       "  </thead>\n",
       "  <tbody>\n",
       "    <tr>\n",
       "      <th>0</th>\n",
       "      <td>2020-03-13</td>\n",
       "      <td>Alabama</td>\n",
       "      <td>1.0</td>\n",
       "      <td>6.0</td>\n",
       "      <td>0.0</td>\n",
       "      <td>0.0</td>\n",
       "      <td>6.0</td>\n",
       "      <td>1.50</td>\n",
       "      <td>20.547945</td>\n",
       "      <td>NaN</td>\n",
       "      <td>...</td>\n",
       "      <td>NaN</td>\n",
       "      <td>NaN</td>\n",
       "      <td>NaN</td>\n",
       "      <td>NaN</td>\n",
       "      <td>NaN</td>\n",
       "      <td>NaN</td>\n",
       "      <td>None</td>\n",
       "      <td>NaN</td>\n",
       "      <td>NaN</td>\n",
       "      <td>NaN</td>\n",
       "    </tr>\n",
       "    <tr>\n",
       "      <th>1</th>\n",
       "      <td>2020-03-14</td>\n",
       "      <td>Alabama</td>\n",
       "      <td>1.0</td>\n",
       "      <td>12.0</td>\n",
       "      <td>0.0</td>\n",
       "      <td>0.0</td>\n",
       "      <td>12.0</td>\n",
       "      <td>3.00</td>\n",
       "      <td>41.095890</td>\n",
       "      <td>NaN</td>\n",
       "      <td>...</td>\n",
       "      <td>NaN</td>\n",
       "      <td>NaN</td>\n",
       "      <td>NaN</td>\n",
       "      <td>NaN</td>\n",
       "      <td>NaN</td>\n",
       "      <td>NaN</td>\n",
       "      <td>None</td>\n",
       "      <td>NaN</td>\n",
       "      <td>NaN</td>\n",
       "      <td>NaN</td>\n",
       "    </tr>\n",
       "    <tr>\n",
       "      <th>2</th>\n",
       "      <td>2020-03-15</td>\n",
       "      <td>Alabama</td>\n",
       "      <td>1.0</td>\n",
       "      <td>23.0</td>\n",
       "      <td>0.0</td>\n",
       "      <td>0.0</td>\n",
       "      <td>23.0</td>\n",
       "      <td>5.75</td>\n",
       "      <td>78.767123</td>\n",
       "      <td>NaN</td>\n",
       "      <td>...</td>\n",
       "      <td>NaN</td>\n",
       "      <td>NaN</td>\n",
       "      <td>NaN</td>\n",
       "      <td>NaN</td>\n",
       "      <td>NaN</td>\n",
       "      <td>NaN</td>\n",
       "      <td>None</td>\n",
       "      <td>NaN</td>\n",
       "      <td>NaN</td>\n",
       "      <td>NaN</td>\n",
       "    </tr>\n",
       "    <tr>\n",
       "      <th>3</th>\n",
       "      <td>2020-03-16</td>\n",
       "      <td>Alabama</td>\n",
       "      <td>1.0</td>\n",
       "      <td>29.0</td>\n",
       "      <td>0.0</td>\n",
       "      <td>0.0</td>\n",
       "      <td>29.0</td>\n",
       "      <td>7.25</td>\n",
       "      <td>99.315068</td>\n",
       "      <td>NaN</td>\n",
       "      <td>...</td>\n",
       "      <td>NaN</td>\n",
       "      <td>NaN</td>\n",
       "      <td>NaN</td>\n",
       "      <td>NaN</td>\n",
       "      <td>NaN</td>\n",
       "      <td>NaN</td>\n",
       "      <td>None</td>\n",
       "      <td>NaN</td>\n",
       "      <td>NaN</td>\n",
       "      <td>NaN</td>\n",
       "    </tr>\n",
       "    <tr>\n",
       "      <th>4</th>\n",
       "      <td>2020-03-17</td>\n",
       "      <td>Alabama</td>\n",
       "      <td>1.0</td>\n",
       "      <td>39.0</td>\n",
       "      <td>0.0</td>\n",
       "      <td>0.0</td>\n",
       "      <td>39.0</td>\n",
       "      <td>9.75</td>\n",
       "      <td>133.561644</td>\n",
       "      <td>NaN</td>\n",
       "      <td>...</td>\n",
       "      <td>NaN</td>\n",
       "      <td>NaN</td>\n",
       "      <td>NaN</td>\n",
       "      <td>NaN</td>\n",
       "      <td>NaN</td>\n",
       "      <td>NaN</td>\n",
       "      <td>None</td>\n",
       "      <td>NaN</td>\n",
       "      <td>NaN</td>\n",
       "      <td>NaN</td>\n",
       "    </tr>\n",
       "  </tbody>\n",
       "</table>\n",
       "<p>5 rows × 21 columns</p>\n",
       "</div>"
      ],
      "text/plain": [
       "        date    state  fips  cases  deaths  estimated_recovered  active  \\\n",
       "0 2020-03-13  Alabama   1.0    6.0     0.0                  0.0     6.0   \n",
       "1 2020-03-14  Alabama   1.0   12.0     0.0                  0.0    12.0   \n",
       "2 2020-03-15  Alabama   1.0   23.0     0.0                  0.0    23.0   \n",
       "3 2020-03-16  Alabama   1.0   29.0     0.0                  0.0    29.0   \n",
       "4 2020-03-17  Alabama   1.0   39.0     0.0                  0.0    39.0   \n",
       "\n",
       "   estimated_hospitalized  estimated_infected  exposed  ...  infected_b  \\\n",
       "0                    1.50           20.547945      NaN  ...         NaN   \n",
       "1                    3.00           41.095890      NaN  ...         NaN   \n",
       "2                    5.75           78.767123      NaN  ...         NaN   \n",
       "3                    7.25           99.315068      NaN  ...         NaN   \n",
       "4                    9.75          133.561644      NaN  ...         NaN   \n",
       "\n",
       "   infected_c  recovered  dead  asymp  R effective  source infected  \\\n",
       "0         NaN        NaN   NaN    NaN          NaN    None      NaN   \n",
       "1         NaN        NaN   NaN    NaN          NaN    None      NaN   \n",
       "2         NaN        NaN   NaN    NaN          NaN    None      NaN   \n",
       "3         NaN        NaN   NaN    NaN          NaN    None      NaN   \n",
       "4         NaN        NaN   NaN    NaN          NaN    None      NaN   \n",
       "\n",
       "   pct_change  doubling_time  \n",
       "0         NaN            NaN  \n",
       "1         NaN            NaN  \n",
       "2         NaN            NaN  \n",
       "3         NaN            NaN  \n",
       "4         NaN            NaN  \n",
       "\n",
       "[5 rows x 21 columns]"
      ]
     },
     "execution_count": 394,
     "metadata": {},
     "output_type": "execute_result"
    }
   ],
   "source": [
    "cf_df.head()"
   ]
  },
  {
   "cell_type": "code",
   "execution_count": 395,
   "metadata": {},
   "outputs": [],
   "source": [
    "cf_df_good = cf_df.loc[:, ['date', 'infected', 'dead', 'recovered', 'asymp']]"
   ]
  },
  {
   "cell_type": "code",
   "execution_count": 396,
   "metadata": {},
   "outputs": [
    {
     "data": {
      "text/html": [
       "<div>\n",
       "<style scoped>\n",
       "    .dataframe tbody tr th:only-of-type {\n",
       "        vertical-align: middle;\n",
       "    }\n",
       "\n",
       "    .dataframe tbody tr th {\n",
       "        vertical-align: top;\n",
       "    }\n",
       "\n",
       "    .dataframe thead th {\n",
       "        text-align: right;\n",
       "    }\n",
       "</style>\n",
       "<table border=\"1\" class=\"dataframe\">\n",
       "  <thead>\n",
       "    <tr style=\"text-align: right;\">\n",
       "      <th></th>\n",
       "      <th>date</th>\n",
       "      <th>infected</th>\n",
       "      <th>dead</th>\n",
       "      <th>recovered</th>\n",
       "      <th>asymp</th>\n",
       "    </tr>\n",
       "  </thead>\n",
       "  <tbody>\n",
       "    <tr>\n",
       "      <th>306</th>\n",
       "      <td>2021-01-13</td>\n",
       "      <td>113.594181</td>\n",
       "      <td>19928.981346</td>\n",
       "      <td>4.047245e+06</td>\n",
       "      <td>26.414434</td>\n",
       "    </tr>\n",
       "    <tr>\n",
       "      <th>307</th>\n",
       "      <td>2021-01-14</td>\n",
       "      <td>106.924797</td>\n",
       "      <td>19929.317657</td>\n",
       "      <td>4.047259e+06</td>\n",
       "      <td>24.860838</td>\n",
       "    </tr>\n",
       "    <tr>\n",
       "      <th>308</th>\n",
       "      <td>2021-01-15</td>\n",
       "      <td>100.646809</td>\n",
       "      <td>19929.634371</td>\n",
       "      <td>4.047272e+06</td>\n",
       "      <td>23.398670</td>\n",
       "    </tr>\n",
       "    <tr>\n",
       "      <th>309</th>\n",
       "      <td>2021-01-16</td>\n",
       "      <td>94.737265</td>\n",
       "      <td>19929.932623</td>\n",
       "      <td>4.047285e+06</td>\n",
       "      <td>22.022546</td>\n",
       "    </tr>\n",
       "    <tr>\n",
       "      <th>310</th>\n",
       "      <td>2021-01-17</td>\n",
       "      <td>89.174558</td>\n",
       "      <td>19930.213484</td>\n",
       "      <td>4.047296e+06</td>\n",
       "      <td>20.727397</td>\n",
       "    </tr>\n",
       "  </tbody>\n",
       "</table>\n",
       "</div>"
      ],
      "text/plain": [
       "          date    infected          dead     recovered      asymp\n",
       "306 2021-01-13  113.594181  19928.981346  4.047245e+06  26.414434\n",
       "307 2021-01-14  106.924797  19929.317657  4.047259e+06  24.860838\n",
       "308 2021-01-15  100.646809  19929.634371  4.047272e+06  23.398670\n",
       "309 2021-01-16   94.737265  19929.932623  4.047285e+06  22.022546\n",
       "310 2021-01-17   89.174558  19930.213484  4.047296e+06  20.727397"
      ]
     },
     "execution_count": 396,
     "metadata": {},
     "output_type": "execute_result"
    }
   ],
   "source": [
    "cf_df_good.tail()"
   ]
  },
  {
   "cell_type": "code",
   "execution_count": 397,
   "metadata": {},
   "outputs": [],
   "source": [
    "cf_df_good['lagged_dead'] = cf_df_good['dead'].shift(-1 * (6+11+8))"
   ]
  },
  {
   "cell_type": "code",
   "execution_count": 398,
   "metadata": {},
   "outputs": [],
   "source": [
    "cf_df_good['cum_infected'] = cf_df_good['recovered'] + cf_df_good['dead'] + cf_df_good['infected'] #- cf_df_good['asymp']"
   ]
  },
  {
   "cell_type": "code",
   "execution_count": 399,
   "metadata": {},
   "outputs": [],
   "source": [
    "cf_df_good['cum_resolved'] = cf_df_good['recovered'] + cf_df_good['dead']"
   ]
  },
  {
   "cell_type": "code",
   "execution_count": 400,
   "metadata": {},
   "outputs": [],
   "source": [
    "cf_df_good['cfr'] = cf_df_good['dead'] / cf_df_good['cum_infected']"
   ]
  },
  {
   "cell_type": "code",
   "execution_count": 401,
   "metadata": {},
   "outputs": [],
   "source": [
    "cf_df_good['shifted_cfr'] = cf_df_good['lagged_dead'] / cf_df_good['cum_infected']"
   ]
  },
  {
   "cell_type": "code",
   "execution_count": 402,
   "metadata": {},
   "outputs": [
    {
     "data": {
      "text/html": [
       "<div>\n",
       "<style scoped>\n",
       "    .dataframe tbody tr th:only-of-type {\n",
       "        vertical-align: middle;\n",
       "    }\n",
       "\n",
       "    .dataframe tbody tr th {\n",
       "        vertical-align: top;\n",
       "    }\n",
       "\n",
       "    .dataframe thead th {\n",
       "        text-align: right;\n",
       "    }\n",
       "</style>\n",
       "<table border=\"1\" class=\"dataframe\">\n",
       "  <thead>\n",
       "    <tr style=\"text-align: right;\">\n",
       "      <th></th>\n",
       "      <th>date</th>\n",
       "      <th>infected</th>\n",
       "      <th>dead</th>\n",
       "      <th>recovered</th>\n",
       "      <th>asymp</th>\n",
       "      <th>lagged_dead</th>\n",
       "      <th>cum_infected</th>\n",
       "      <th>cum_resolved</th>\n",
       "      <th>cfr</th>\n",
       "      <th>shifted_cfr</th>\n",
       "    </tr>\n",
       "  </thead>\n",
       "  <tbody>\n",
       "    <tr>\n",
       "      <th>0</th>\n",
       "      <td>2020-03-13</td>\n",
       "      <td>NaN</td>\n",
       "      <td>NaN</td>\n",
       "      <td>NaN</td>\n",
       "      <td>NaN</td>\n",
       "      <td>3.894534</td>\n",
       "      <td>NaN</td>\n",
       "      <td>NaN</td>\n",
       "      <td>NaN</td>\n",
       "      <td>NaN</td>\n",
       "    </tr>\n",
       "    <tr>\n",
       "      <th>1</th>\n",
       "      <td>2020-03-14</td>\n",
       "      <td>NaN</td>\n",
       "      <td>NaN</td>\n",
       "      <td>NaN</td>\n",
       "      <td>NaN</td>\n",
       "      <td>4.054637</td>\n",
       "      <td>NaN</td>\n",
       "      <td>NaN</td>\n",
       "      <td>NaN</td>\n",
       "      <td>NaN</td>\n",
       "    </tr>\n",
       "    <tr>\n",
       "      <th>2</th>\n",
       "      <td>2020-03-15</td>\n",
       "      <td>NaN</td>\n",
       "      <td>NaN</td>\n",
       "      <td>NaN</td>\n",
       "      <td>NaN</td>\n",
       "      <td>4.215322</td>\n",
       "      <td>NaN</td>\n",
       "      <td>NaN</td>\n",
       "      <td>NaN</td>\n",
       "      <td>NaN</td>\n",
       "    </tr>\n",
       "    <tr>\n",
       "      <th>3</th>\n",
       "      <td>2020-03-16</td>\n",
       "      <td>NaN</td>\n",
       "      <td>NaN</td>\n",
       "      <td>NaN</td>\n",
       "      <td>NaN</td>\n",
       "      <td>4.377523</td>\n",
       "      <td>NaN</td>\n",
       "      <td>NaN</td>\n",
       "      <td>NaN</td>\n",
       "      <td>NaN</td>\n",
       "    </tr>\n",
       "    <tr>\n",
       "      <th>4</th>\n",
       "      <td>2020-03-17</td>\n",
       "      <td>NaN</td>\n",
       "      <td>NaN</td>\n",
       "      <td>NaN</td>\n",
       "      <td>NaN</td>\n",
       "      <td>4.542184</td>\n",
       "      <td>NaN</td>\n",
       "      <td>NaN</td>\n",
       "      <td>NaN</td>\n",
       "      <td>NaN</td>\n",
       "    </tr>\n",
       "  </tbody>\n",
       "</table>\n",
       "</div>"
      ],
      "text/plain": [
       "        date  infected  dead  recovered  asymp  lagged_dead  cum_infected  \\\n",
       "0 2020-03-13       NaN   NaN        NaN    NaN     3.894534           NaN   \n",
       "1 2020-03-14       NaN   NaN        NaN    NaN     4.054637           NaN   \n",
       "2 2020-03-15       NaN   NaN        NaN    NaN     4.215322           NaN   \n",
       "3 2020-03-16       NaN   NaN        NaN    NaN     4.377523           NaN   \n",
       "4 2020-03-17       NaN   NaN        NaN    NaN     4.542184           NaN   \n",
       "\n",
       "   cum_resolved  cfr  shifted_cfr  \n",
       "0           NaN  NaN          NaN  \n",
       "1           NaN  NaN          NaN  \n",
       "2           NaN  NaN          NaN  \n",
       "3           NaN  NaN          NaN  \n",
       "4           NaN  NaN          NaN  "
      ]
     },
     "execution_count": 402,
     "metadata": {},
     "output_type": "execute_result"
    }
   ],
   "source": [
    "cf_df_good.head()"
   ]
  },
  {
   "cell_type": "code",
   "execution_count": 405,
   "metadata": {},
   "outputs": [
    {
     "data": {
      "text/plain": [
       "Text(0.5, 1.0, 'CFR to date (dead over cum. infected) - shifted and not')"
      ]
     },
     "execution_count": 405,
     "metadata": {},
     "output_type": "execute_result"
    },
    {
     "data": {
      "image/png": "[encoded data removed]",
      "text/plain": [
       "<Figure size 792x576 with 1 Axes>"
      ]
     },
     "metadata": {},
     "output_type": "display_data"
    }
   ],
   "source": [
    "#ax = sb.lineplot(x=\"date\", y=\"value\", hue=\"variable\", data=pd.melt(cf_df_good.loc[(cf_df_good['date'] > '2020-05-01'), ['date', 'cfr', 'shifted_cfr']], ['date']))\n",
    "ax = sb.lineplot(x=\"date\", y=\"value\", hue=\"variable\", data=pd.melt(cf_df_good.loc[:, ['date', 'cfr', 'shifted_cfr']], ['date']))\n",
    "ax.set_title('CFR to date (dead over cum. infected) - shifted and not')"
   ]
  },
  {
   "cell_type": "code",
   "execution_count": 404,
   "metadata": {},
   "outputs": [
    {
     "data": {
      "text/plain": [
       "294    0.004898\n",
       "Name: cfr, dtype: float64"
      ]
     },
     "execution_count": 404,
     "metadata": {},
     "output_type": "execute_result"
    }
   ],
   "source": [
    "cf_df_good.loc[(cf_df_good['date'] == '2021-01-01'), 'cfr']"
   ]
  },
  {
   "cell_type": "code",
   "execution_count": 388,
   "metadata": {},
   "outputs": [
    {
     "data": {
      "text/plain": [
       "0.6974285714285715"
      ]
     },
     "execution_count": 388,
     "metadata": {},
     "output_type": "execute_result"
    }
   ],
   "source": [
    "0.009764 / 0.013999999999999999"
   ]
  },
  {
   "cell_type": "code",
   "execution_count": 387,
   "metadata": {},
   "outputs": [
    {
     "data": {
      "text/plain": [
       "0.6975714285714286"
      ]
     },
     "execution_count": 387,
     "metadata": {},
     "output_type": "execute_result"
    }
   ],
   "source": [
    "0.004883 / 0.006999999999999999"
   ]
  },
  {
   "cell_type": "code",
   "execution_count": 363,
   "metadata": {},
   "outputs": [],
   "source": [
    "percent_asymp = 0.3\n",
    "\n",
    "hospitalization_rate = 0.10\n",
    "hospitalized_cases_requiring_icu_care = 0.5\n",
    "death_rate_for_critical = 0.4\n",
    "\n",
    "# CFR is calculated from the input parameters vs. fixed\n",
    "case_fatality_rate = (\n",
    "    (1 - percent_asymp) #* (1 - percent_asymp)\n",
    "#    1\n",
    "    * hospitalization_rate\n",
    "    * hospitalized_cases_requiring_icu_care\n",
    "    * death_rate_for_critical\n",
    ")"
   ]
  },
  {
   "cell_type": "code",
   "execution_count": 364,
   "metadata": {},
   "outputs": [
    {
     "data": {
      "text/plain": [
       "0.013999999999999999"
      ]
     },
     "execution_count": 364,
     "metadata": {},
     "output_type": "execute_result"
    }
   ],
   "source": [
    "case_fatality_rate"
   ]
  },
  {
   "cell_type": "code",
   "execution_count": 367,
   "metadata": {},
   "outputs": [
    {
     "name": "stdout",
     "output_type": "stream",
     "text": [
      "0.034999999999999996\n",
      "0.013999999999999999\n",
      "0.05\n"
     ]
    }
   ],
   "source": [
    "icu_time_death = 8\n",
    "\n",
    "fraction_critical = (\n",
    "    (1 - percent_asymp)\n",
    "    * hospitalization_rate\n",
    "    * hospitalized_cases_requiring_icu_care\n",
    ")\n",
    "\n",
    "mu = (1 / icu_time_death) * (\n",
    "    case_fatality_rate / fraction_critical\n",
    ")\n",
    "\n",
    "print(fraction_critical)\n",
    "print(fraction_critical * death_rate_for_critical)\n",
    "print(mu)"
   ]
  },
  {
   "cell_type": "code",
   "execution_count": 366,
   "metadata": {},
   "outputs": [
    {
     "name": "stdout",
     "output_type": "stream",
     "text": [
      "0.09\n",
      "0.013999999999999999\n"
     ]
    }
   ],
   "source": [
    "#% Critical×μ/(μ+γ3)\n",
    "\n",
    "gamma_3 = (1 / icu_time_death) - mu\n",
    "cfr_calc = (fraction_critical * mu) / (mu + gamma_3)\n",
    "\n",
    "print(gamma_3)\n",
    "print(cfr_calc)"
   ]
  },
  {
   "cell_type": "code",
   "execution_count": null,
   "metadata": {},
   "outputs": [],
   "source": []
  },
  {
   "cell_type": "code",
   "execution_count": null,
   "metadata": {},
   "outputs": [],
   "source": []
  },
  {
   "cell_type": "code",
   "execution_count": null,
   "metadata": {},
   "outputs": [],
   "source": []
  },
  {
   "cell_type": "code",
   "execution_count": 407,
   "metadata": {},
   "outputs": [],
   "source": [
    "counties = pd.read_csv('us-counties.csv')"
   ]
  },
  {
   "cell_type": "code",
   "execution_count": 442,
   "metadata": {},
   "outputs": [
    {
     "data": {
      "text/plain": [
       "(353568, 7)"
      ]
     },
     "execution_count": 442,
     "metadata": {},
     "output_type": "execute_result"
    }
   ],
   "source": [
    "counties.shape"
   ]
  },
  {
   "cell_type": "code",
   "execution_count": 415,
   "metadata": {
    "scrolled": true
   },
   "outputs": [
    {
     "data": {
      "text/html": [
       "<div>\n",
       "<style scoped>\n",
       "    .dataframe tbody tr th:only-of-type {\n",
       "        vertical-align: middle;\n",
       "    }\n",
       "\n",
       "    .dataframe tbody tr th {\n",
       "        vertical-align: top;\n",
       "    }\n",
       "\n",
       "    .dataframe thead th {\n",
       "        text-align: right;\n",
       "    }\n",
       "</style>\n",
       "<table border=\"1\" class=\"dataframe\">\n",
       "  <thead>\n",
       "    <tr style=\"text-align: right;\">\n",
       "      <th></th>\n",
       "      <th>date</th>\n",
       "      <th>county</th>\n",
       "      <th>state</th>\n",
       "      <th>fips</th>\n",
       "      <th>cases</th>\n",
       "      <th>deaths</th>\n",
       "      <th>new_cases</th>\n",
       "    </tr>\n",
       "  </thead>\n",
       "  <tbody>\n",
       "    <tr>\n",
       "      <th>199057</th>\n",
       "      <td>2020-06-01</td>\n",
       "      <td>Ziebach</td>\n",
       "      <td>South Dakota</td>\n",
       "      <td>46137.0</td>\n",
       "      <td>1</td>\n",
       "      <td>0</td>\n",
       "      <td>0.0</td>\n",
       "    </tr>\n",
       "    <tr>\n",
       "      <th>202129</th>\n",
       "      <td>2020-06-02</td>\n",
       "      <td>Ziebach</td>\n",
       "      <td>South Dakota</td>\n",
       "      <td>46137.0</td>\n",
       "      <td>1</td>\n",
       "      <td>0</td>\n",
       "      <td>0.0</td>\n",
       "    </tr>\n",
       "    <tr>\n",
       "      <th>205205</th>\n",
       "      <td>2020-06-03</td>\n",
       "      <td>Ziebach</td>\n",
       "      <td>South Dakota</td>\n",
       "      <td>46137.0</td>\n",
       "      <td>1</td>\n",
       "      <td>0</td>\n",
       "      <td>0.0</td>\n",
       "    </tr>\n",
       "    <tr>\n",
       "      <th>208284</th>\n",
       "      <td>2020-06-04</td>\n",
       "      <td>Ziebach</td>\n",
       "      <td>South Dakota</td>\n",
       "      <td>46137.0</td>\n",
       "      <td>2</td>\n",
       "      <td>0</td>\n",
       "      <td>1.0</td>\n",
       "    </tr>\n",
       "    <tr>\n",
       "      <th>211364</th>\n",
       "      <td>2020-06-05</td>\n",
       "      <td>Ziebach</td>\n",
       "      <td>South Dakota</td>\n",
       "      <td>46137.0</td>\n",
       "      <td>2</td>\n",
       "      <td>0</td>\n",
       "      <td>0.0</td>\n",
       "    </tr>\n",
       "    <tr>\n",
       "      <th>214449</th>\n",
       "      <td>2020-06-06</td>\n",
       "      <td>Ziebach</td>\n",
       "      <td>South Dakota</td>\n",
       "      <td>46137.0</td>\n",
       "      <td>2</td>\n",
       "      <td>0</td>\n",
       "      <td>0.0</td>\n",
       "    </tr>\n",
       "    <tr>\n",
       "      <th>217537</th>\n",
       "      <td>2020-06-07</td>\n",
       "      <td>Ziebach</td>\n",
       "      <td>South Dakota</td>\n",
       "      <td>46137.0</td>\n",
       "      <td>2</td>\n",
       "      <td>0</td>\n",
       "      <td>0.0</td>\n",
       "    </tr>\n",
       "    <tr>\n",
       "      <th>220627</th>\n",
       "      <td>2020-06-08</td>\n",
       "      <td>Ziebach</td>\n",
       "      <td>South Dakota</td>\n",
       "      <td>46137.0</td>\n",
       "      <td>2</td>\n",
       "      <td>0</td>\n",
       "      <td>0.0</td>\n",
       "    </tr>\n",
       "    <tr>\n",
       "      <th>223720</th>\n",
       "      <td>2020-06-09</td>\n",
       "      <td>Ziebach</td>\n",
       "      <td>South Dakota</td>\n",
       "      <td>46137.0</td>\n",
       "      <td>2</td>\n",
       "      <td>0</td>\n",
       "      <td>0.0</td>\n",
       "    </tr>\n",
       "    <tr>\n",
       "      <th>226819</th>\n",
       "      <td>2020-06-10</td>\n",
       "      <td>Ziebach</td>\n",
       "      <td>South Dakota</td>\n",
       "      <td>46137.0</td>\n",
       "      <td>2</td>\n",
       "      <td>0</td>\n",
       "      <td>0.0</td>\n",
       "    </tr>\n",
       "    <tr>\n",
       "      <th>229921</th>\n",
       "      <td>2020-06-11</td>\n",
       "      <td>Ziebach</td>\n",
       "      <td>South Dakota</td>\n",
       "      <td>46137.0</td>\n",
       "      <td>2</td>\n",
       "      <td>0</td>\n",
       "      <td>0.0</td>\n",
       "    </tr>\n",
       "    <tr>\n",
       "      <th>233025</th>\n",
       "      <td>2020-06-12</td>\n",
       "      <td>Ziebach</td>\n",
       "      <td>South Dakota</td>\n",
       "      <td>46137.0</td>\n",
       "      <td>2</td>\n",
       "      <td>0</td>\n",
       "      <td>0.0</td>\n",
       "    </tr>\n",
       "    <tr>\n",
       "      <th>236129</th>\n",
       "      <td>2020-06-13</td>\n",
       "      <td>Ziebach</td>\n",
       "      <td>South Dakota</td>\n",
       "      <td>46137.0</td>\n",
       "      <td>2</td>\n",
       "      <td>0</td>\n",
       "      <td>0.0</td>\n",
       "    </tr>\n",
       "    <tr>\n",
       "      <th>239235</th>\n",
       "      <td>2020-06-14</td>\n",
       "      <td>Ziebach</td>\n",
       "      <td>South Dakota</td>\n",
       "      <td>46137.0</td>\n",
       "      <td>2</td>\n",
       "      <td>0</td>\n",
       "      <td>0.0</td>\n",
       "    </tr>\n",
       "    <tr>\n",
       "      <th>242343</th>\n",
       "      <td>2020-06-15</td>\n",
       "      <td>Ziebach</td>\n",
       "      <td>South Dakota</td>\n",
       "      <td>46137.0</td>\n",
       "      <td>2</td>\n",
       "      <td>0</td>\n",
       "      <td>0.0</td>\n",
       "    </tr>\n",
       "    <tr>\n",
       "      <th>245453</th>\n",
       "      <td>2020-06-16</td>\n",
       "      <td>Ziebach</td>\n",
       "      <td>South Dakota</td>\n",
       "      <td>46137.0</td>\n",
       "      <td>2</td>\n",
       "      <td>0</td>\n",
       "      <td>0.0</td>\n",
       "    </tr>\n",
       "    <tr>\n",
       "      <th>248564</th>\n",
       "      <td>2020-06-17</td>\n",
       "      <td>Ziebach</td>\n",
       "      <td>South Dakota</td>\n",
       "      <td>46137.0</td>\n",
       "      <td>2</td>\n",
       "      <td>0</td>\n",
       "      <td>0.0</td>\n",
       "    </tr>\n",
       "    <tr>\n",
       "      <th>251677</th>\n",
       "      <td>2020-06-18</td>\n",
       "      <td>Ziebach</td>\n",
       "      <td>South Dakota</td>\n",
       "      <td>46137.0</td>\n",
       "      <td>2</td>\n",
       "      <td>0</td>\n",
       "      <td>0.0</td>\n",
       "    </tr>\n",
       "    <tr>\n",
       "      <th>254790</th>\n",
       "      <td>2020-06-19</td>\n",
       "      <td>Ziebach</td>\n",
       "      <td>South Dakota</td>\n",
       "      <td>46137.0</td>\n",
       "      <td>2</td>\n",
       "      <td>0</td>\n",
       "      <td>0.0</td>\n",
       "    </tr>\n",
       "    <tr>\n",
       "      <th>257914</th>\n",
       "      <td>2020-06-20</td>\n",
       "      <td>Ziebach</td>\n",
       "      <td>South Dakota</td>\n",
       "      <td>46137.0</td>\n",
       "      <td>2</td>\n",
       "      <td>0</td>\n",
       "      <td>0.0</td>\n",
       "    </tr>\n",
       "    <tr>\n",
       "      <th>261039</th>\n",
       "      <td>2020-06-21</td>\n",
       "      <td>Ziebach</td>\n",
       "      <td>South Dakota</td>\n",
       "      <td>46137.0</td>\n",
       "      <td>2</td>\n",
       "      <td>0</td>\n",
       "      <td>0.0</td>\n",
       "    </tr>\n",
       "    <tr>\n",
       "      <th>264165</th>\n",
       "      <td>2020-06-22</td>\n",
       "      <td>Ziebach</td>\n",
       "      <td>South Dakota</td>\n",
       "      <td>46137.0</td>\n",
       "      <td>2</td>\n",
       "      <td>0</td>\n",
       "      <td>0.0</td>\n",
       "    </tr>\n",
       "    <tr>\n",
       "      <th>267292</th>\n",
       "      <td>2020-06-23</td>\n",
       "      <td>Ziebach</td>\n",
       "      <td>South Dakota</td>\n",
       "      <td>46137.0</td>\n",
       "      <td>2</td>\n",
       "      <td>0</td>\n",
       "      <td>0.0</td>\n",
       "    </tr>\n",
       "    <tr>\n",
       "      <th>270424</th>\n",
       "      <td>2020-06-24</td>\n",
       "      <td>Ziebach</td>\n",
       "      <td>South Dakota</td>\n",
       "      <td>46137.0</td>\n",
       "      <td>2</td>\n",
       "      <td>0</td>\n",
       "      <td>0.0</td>\n",
       "    </tr>\n",
       "    <tr>\n",
       "      <th>273561</th>\n",
       "      <td>2020-06-25</td>\n",
       "      <td>Ziebach</td>\n",
       "      <td>South Dakota</td>\n",
       "      <td>46137.0</td>\n",
       "      <td>2</td>\n",
       "      <td>0</td>\n",
       "      <td>0.0</td>\n",
       "    </tr>\n",
       "    <tr>\n",
       "      <th>276706</th>\n",
       "      <td>2020-06-26</td>\n",
       "      <td>Ziebach</td>\n",
       "      <td>South Dakota</td>\n",
       "      <td>46137.0</td>\n",
       "      <td>2</td>\n",
       "      <td>0</td>\n",
       "      <td>0.0</td>\n",
       "    </tr>\n",
       "    <tr>\n",
       "      <th>279852</th>\n",
       "      <td>2020-06-27</td>\n",
       "      <td>Ziebach</td>\n",
       "      <td>South Dakota</td>\n",
       "      <td>46137.0</td>\n",
       "      <td>2</td>\n",
       "      <td>0</td>\n",
       "      <td>0.0</td>\n",
       "    </tr>\n",
       "    <tr>\n",
       "      <th>282997</th>\n",
       "      <td>2020-06-28</td>\n",
       "      <td>Ziebach</td>\n",
       "      <td>South Dakota</td>\n",
       "      <td>46137.0</td>\n",
       "      <td>3</td>\n",
       "      <td>0</td>\n",
       "      <td>1.0</td>\n",
       "    </tr>\n",
       "    <tr>\n",
       "      <th>286141</th>\n",
       "      <td>2020-06-29</td>\n",
       "      <td>Ziebach</td>\n",
       "      <td>South Dakota</td>\n",
       "      <td>46137.0</td>\n",
       "      <td>3</td>\n",
       "      <td>0</td>\n",
       "      <td>0.0</td>\n",
       "    </tr>\n",
       "    <tr>\n",
       "      <th>289291</th>\n",
       "      <td>2020-06-30</td>\n",
       "      <td>Ziebach</td>\n",
       "      <td>South Dakota</td>\n",
       "      <td>46137.0</td>\n",
       "      <td>2</td>\n",
       "      <td>0</td>\n",
       "      <td>-1.0</td>\n",
       "    </tr>\n",
       "    <tr>\n",
       "      <th>292441</th>\n",
       "      <td>2020-07-01</td>\n",
       "      <td>Ziebach</td>\n",
       "      <td>South Dakota</td>\n",
       "      <td>46137.0</td>\n",
       "      <td>2</td>\n",
       "      <td>0</td>\n",
       "      <td>0.0</td>\n",
       "    </tr>\n",
       "    <tr>\n",
       "      <th>295595</th>\n",
       "      <td>2020-07-02</td>\n",
       "      <td>Ziebach</td>\n",
       "      <td>South Dakota</td>\n",
       "      <td>46137.0</td>\n",
       "      <td>1</td>\n",
       "      <td>0</td>\n",
       "      <td>-1.0</td>\n",
       "    </tr>\n",
       "    <tr>\n",
       "      <th>298753</th>\n",
       "      <td>2020-07-03</td>\n",
       "      <td>Ziebach</td>\n",
       "      <td>South Dakota</td>\n",
       "      <td>46137.0</td>\n",
       "      <td>1</td>\n",
       "      <td>0</td>\n",
       "      <td>0.0</td>\n",
       "    </tr>\n",
       "    <tr>\n",
       "      <th>301915</th>\n",
       "      <td>2020-07-04</td>\n",
       "      <td>Ziebach</td>\n",
       "      <td>South Dakota</td>\n",
       "      <td>46137.0</td>\n",
       "      <td>1</td>\n",
       "      <td>0</td>\n",
       "      <td>0.0</td>\n",
       "    </tr>\n",
       "    <tr>\n",
       "      <th>305076</th>\n",
       "      <td>2020-07-05</td>\n",
       "      <td>Ziebach</td>\n",
       "      <td>South Dakota</td>\n",
       "      <td>46137.0</td>\n",
       "      <td>1</td>\n",
       "      <td>0</td>\n",
       "      <td>0.0</td>\n",
       "    </tr>\n",
       "    <tr>\n",
       "      <th>308242</th>\n",
       "      <td>2020-07-06</td>\n",
       "      <td>Ziebach</td>\n",
       "      <td>South Dakota</td>\n",
       "      <td>46137.0</td>\n",
       "      <td>1</td>\n",
       "      <td>0</td>\n",
       "      <td>0.0</td>\n",
       "    </tr>\n",
       "    <tr>\n",
       "      <th>311409</th>\n",
       "      <td>2020-07-07</td>\n",
       "      <td>Ziebach</td>\n",
       "      <td>South Dakota</td>\n",
       "      <td>46137.0</td>\n",
       "      <td>1</td>\n",
       "      <td>0</td>\n",
       "      <td>0.0</td>\n",
       "    </tr>\n",
       "    <tr>\n",
       "      <th>314581</th>\n",
       "      <td>2020-07-08</td>\n",
       "      <td>Ziebach</td>\n",
       "      <td>South Dakota</td>\n",
       "      <td>46137.0</td>\n",
       "      <td>1</td>\n",
       "      <td>0</td>\n",
       "      <td>0.0</td>\n",
       "    </tr>\n",
       "    <tr>\n",
       "      <th>317752</th>\n",
       "      <td>2020-07-09</td>\n",
       "      <td>Ziebach</td>\n",
       "      <td>South Dakota</td>\n",
       "      <td>46137.0</td>\n",
       "      <td>2</td>\n",
       "      <td>0</td>\n",
       "      <td>1.0</td>\n",
       "    </tr>\n",
       "    <tr>\n",
       "      <th>320928</th>\n",
       "      <td>2020-07-10</td>\n",
       "      <td>Ziebach</td>\n",
       "      <td>South Dakota</td>\n",
       "      <td>46137.0</td>\n",
       "      <td>3</td>\n",
       "      <td>0</td>\n",
       "      <td>1.0</td>\n",
       "    </tr>\n",
       "    <tr>\n",
       "      <th>324107</th>\n",
       "      <td>2020-07-11</td>\n",
       "      <td>Ziebach</td>\n",
       "      <td>South Dakota</td>\n",
       "      <td>46137.0</td>\n",
       "      <td>3</td>\n",
       "      <td>0</td>\n",
       "      <td>0.0</td>\n",
       "    </tr>\n",
       "    <tr>\n",
       "      <th>327290</th>\n",
       "      <td>2020-07-12</td>\n",
       "      <td>Ziebach</td>\n",
       "      <td>South Dakota</td>\n",
       "      <td>46137.0</td>\n",
       "      <td>3</td>\n",
       "      <td>0</td>\n",
       "      <td>0.0</td>\n",
       "    </tr>\n",
       "    <tr>\n",
       "      <th>330474</th>\n",
       "      <td>2020-07-13</td>\n",
       "      <td>Ziebach</td>\n",
       "      <td>South Dakota</td>\n",
       "      <td>46137.0</td>\n",
       "      <td>3</td>\n",
       "      <td>0</td>\n",
       "      <td>0.0</td>\n",
       "    </tr>\n",
       "    <tr>\n",
       "      <th>333664</th>\n",
       "      <td>2020-07-14</td>\n",
       "      <td>Ziebach</td>\n",
       "      <td>South Dakota</td>\n",
       "      <td>46137.0</td>\n",
       "      <td>3</td>\n",
       "      <td>0</td>\n",
       "      <td>0.0</td>\n",
       "    </tr>\n",
       "    <tr>\n",
       "      <th>336856</th>\n",
       "      <td>2020-07-15</td>\n",
       "      <td>Ziebach</td>\n",
       "      <td>South Dakota</td>\n",
       "      <td>46137.0</td>\n",
       "      <td>3</td>\n",
       "      <td>0</td>\n",
       "      <td>0.0</td>\n",
       "    </tr>\n",
       "    <tr>\n",
       "      <th>340051</th>\n",
       "      <td>2020-07-16</td>\n",
       "      <td>Ziebach</td>\n",
       "      <td>South Dakota</td>\n",
       "      <td>46137.0</td>\n",
       "      <td>3</td>\n",
       "      <td>0</td>\n",
       "      <td>0.0</td>\n",
       "    </tr>\n",
       "    <tr>\n",
       "      <th>343247</th>\n",
       "      <td>2020-07-17</td>\n",
       "      <td>Ziebach</td>\n",
       "      <td>South Dakota</td>\n",
       "      <td>46137.0</td>\n",
       "      <td>3</td>\n",
       "      <td>0</td>\n",
       "      <td>0.0</td>\n",
       "    </tr>\n",
       "    <tr>\n",
       "      <th>346448</th>\n",
       "      <td>2020-07-18</td>\n",
       "      <td>Ziebach</td>\n",
       "      <td>South Dakota</td>\n",
       "      <td>46137.0</td>\n",
       "      <td>3</td>\n",
       "      <td>0</td>\n",
       "      <td>0.0</td>\n",
       "    </tr>\n",
       "    <tr>\n",
       "      <th>349649</th>\n",
       "      <td>2020-07-19</td>\n",
       "      <td>Ziebach</td>\n",
       "      <td>South Dakota</td>\n",
       "      <td>46137.0</td>\n",
       "      <td>3</td>\n",
       "      <td>0</td>\n",
       "      <td>0.0</td>\n",
       "    </tr>\n",
       "    <tr>\n",
       "      <th>352853</th>\n",
       "      <td>2020-07-20</td>\n",
       "      <td>Ziebach</td>\n",
       "      <td>South Dakota</td>\n",
       "      <td>46137.0</td>\n",
       "      <td>3</td>\n",
       "      <td>0</td>\n",
       "      <td>0.0</td>\n",
       "    </tr>\n",
       "  </tbody>\n",
       "</table>\n",
       "</div>"
      ],
      "text/plain": [
       "              date   county         state     fips  cases  deaths  new_cases\n",
       "199057  2020-06-01  Ziebach  South Dakota  46137.0      1       0        0.0\n",
       "202129  2020-06-02  Ziebach  South Dakota  46137.0      1       0        0.0\n",
       "205205  2020-06-03  Ziebach  South Dakota  46137.0      1       0        0.0\n",
       "208284  2020-06-04  Ziebach  South Dakota  46137.0      2       0        1.0\n",
       "211364  2020-06-05  Ziebach  South Dakota  46137.0      2       0        0.0\n",
       "214449  2020-06-06  Ziebach  South Dakota  46137.0      2       0        0.0\n",
       "217537  2020-06-07  Ziebach  South Dakota  46137.0      2       0        0.0\n",
       "220627  2020-06-08  Ziebach  South Dakota  46137.0      2       0        0.0\n",
       "223720  2020-06-09  Ziebach  South Dakota  46137.0      2       0        0.0\n",
       "226819  2020-06-10  Ziebach  South Dakota  46137.0      2       0        0.0\n",
       "229921  2020-06-11  Ziebach  South Dakota  46137.0      2       0        0.0\n",
       "233025  2020-06-12  Ziebach  South Dakota  46137.0      2       0        0.0\n",
       "236129  2020-06-13  Ziebach  South Dakota  46137.0      2       0        0.0\n",
       "239235  2020-06-14  Ziebach  South Dakota  46137.0      2       0        0.0\n",
       "242343  2020-06-15  Ziebach  South Dakota  46137.0      2       0        0.0\n",
       "245453  2020-06-16  Ziebach  South Dakota  46137.0      2       0        0.0\n",
       "248564  2020-06-17  Ziebach  South Dakota  46137.0      2       0        0.0\n",
       "251677  2020-06-18  Ziebach  South Dakota  46137.0      2       0        0.0\n",
       "254790  2020-06-19  Ziebach  South Dakota  46137.0      2       0        0.0\n",
       "257914  2020-06-20  Ziebach  South Dakota  46137.0      2       0        0.0\n",
       "261039  2020-06-21  Ziebach  South Dakota  46137.0      2       0        0.0\n",
       "264165  2020-06-22  Ziebach  South Dakota  46137.0      2       0        0.0\n",
       "267292  2020-06-23  Ziebach  South Dakota  46137.0      2       0        0.0\n",
       "270424  2020-06-24  Ziebach  South Dakota  46137.0      2       0        0.0\n",
       "273561  2020-06-25  Ziebach  South Dakota  46137.0      2       0        0.0\n",
       "276706  2020-06-26  Ziebach  South Dakota  46137.0      2       0        0.0\n",
       "279852  2020-06-27  Ziebach  South Dakota  46137.0      2       0        0.0\n",
       "282997  2020-06-28  Ziebach  South Dakota  46137.0      3       0        1.0\n",
       "286141  2020-06-29  Ziebach  South Dakota  46137.0      3       0        0.0\n",
       "289291  2020-06-30  Ziebach  South Dakota  46137.0      2       0       -1.0\n",
       "292441  2020-07-01  Ziebach  South Dakota  46137.0      2       0        0.0\n",
       "295595  2020-07-02  Ziebach  South Dakota  46137.0      1       0       -1.0\n",
       "298753  2020-07-03  Ziebach  South Dakota  46137.0      1       0        0.0\n",
       "301915  2020-07-04  Ziebach  South Dakota  46137.0      1       0        0.0\n",
       "305076  2020-07-05  Ziebach  South Dakota  46137.0      1       0        0.0\n",
       "308242  2020-07-06  Ziebach  South Dakota  46137.0      1       0        0.0\n",
       "311409  2020-07-07  Ziebach  South Dakota  46137.0      1       0        0.0\n",
       "314581  2020-07-08  Ziebach  South Dakota  46137.0      1       0        0.0\n",
       "317752  2020-07-09  Ziebach  South Dakota  46137.0      2       0        1.0\n",
       "320928  2020-07-10  Ziebach  South Dakota  46137.0      3       0        1.0\n",
       "324107  2020-07-11  Ziebach  South Dakota  46137.0      3       0        0.0\n",
       "327290  2020-07-12  Ziebach  South Dakota  46137.0      3       0        0.0\n",
       "330474  2020-07-13  Ziebach  South Dakota  46137.0      3       0        0.0\n",
       "333664  2020-07-14  Ziebach  South Dakota  46137.0      3       0        0.0\n",
       "336856  2020-07-15  Ziebach  South Dakota  46137.0      3       0        0.0\n",
       "340051  2020-07-16  Ziebach  South Dakota  46137.0      3       0        0.0\n",
       "343247  2020-07-17  Ziebach  South Dakota  46137.0      3       0        0.0\n",
       "346448  2020-07-18  Ziebach  South Dakota  46137.0      3       0        0.0\n",
       "349649  2020-07-19  Ziebach  South Dakota  46137.0      3       0        0.0\n",
       "352853  2020-07-20  Ziebach  South Dakota  46137.0      3       0        0.0"
      ]
     },
     "execution_count": 415,
     "metadata": {},
     "output_type": "execute_result"
    }
   ],
   "source": [
    "counties.sort_values(['county', 'date']).tail(50)"
   ]
  },
  {
   "cell_type": "code",
   "execution_count": 411,
   "metadata": {},
   "outputs": [],
   "source": [
    "counties['new_cases'] = counties.sort_values('date').groupby('county')['cases'].diff()"
   ]
  },
  {
   "cell_type": "code",
   "execution_count": 444,
   "metadata": {},
   "outputs": [
    {
     "data": {
      "text/plain": [
       "(176660, 7)"
      ]
     },
     "execution_count": 444,
     "metadata": {},
     "output_type": "execute_result"
    }
   ],
   "source": [
    "counties.loc[(counties.new_cases > 0), :].shape"
   ]
  },
  {
   "cell_type": "code",
   "execution_count": 423,
   "metadata": {},
   "outputs": [],
   "source": [
    "new_counts = counties.loc[:, ['date', 'new_cases']].groupby('new_cases').count()"
   ]
  },
  {
   "cell_type": "code",
   "execution_count": 424,
   "metadata": {},
   "outputs": [
    {
     "data": {
      "text/html": [
       "<div>\n",
       "<style scoped>\n",
       "    .dataframe tbody tr th:only-of-type {\n",
       "        vertical-align: middle;\n",
       "    }\n",
       "\n",
       "    .dataframe tbody tr th {\n",
       "        vertical-align: top;\n",
       "    }\n",
       "\n",
       "    .dataframe thead th {\n",
       "        text-align: right;\n",
       "    }\n",
       "</style>\n",
       "<table border=\"1\" class=\"dataframe\">\n",
       "  <thead>\n",
       "    <tr style=\"text-align: right;\">\n",
       "      <th></th>\n",
       "      <th>new_cases</th>\n",
       "      <th>date</th>\n",
       "    </tr>\n",
       "  </thead>\n",
       "  <tbody>\n",
       "    <tr>\n",
       "      <th>6397</th>\n",
       "      <td>1.0</td>\n",
       "      <td>24921</td>\n",
       "    </tr>\n",
       "    <tr>\n",
       "      <th>6398</th>\n",
       "      <td>2.0</td>\n",
       "      <td>13914</td>\n",
       "    </tr>\n",
       "    <tr>\n",
       "      <th>6399</th>\n",
       "      <td>3.0</td>\n",
       "      <td>9549</td>\n",
       "    </tr>\n",
       "    <tr>\n",
       "      <th>6400</th>\n",
       "      <td>4.0</td>\n",
       "      <td>7029</td>\n",
       "    </tr>\n",
       "    <tr>\n",
       "      <th>6401</th>\n",
       "      <td>5.0</td>\n",
       "      <td>5651</td>\n",
       "    </tr>\n",
       "  </tbody>\n",
       "</table>\n",
       "</div>"
      ],
      "text/plain": [
       "      new_cases   date\n",
       "6397        1.0  24921\n",
       "6398        2.0  13914\n",
       "6399        3.0   9549\n",
       "6400        4.0   7029\n",
       "6401        5.0   5651"
      ]
     },
     "execution_count": 424,
     "metadata": {},
     "output_type": "execute_result"
    }
   ],
   "source": [
    "new_counts.reset_index(inplace=True)\n",
    "new_counts = new_counts.loc[(new_counts.new_cases > 0), :]\n",
    "\n",
    "new_counts.head()"
   ]
  },
  {
   "cell_type": "code",
   "execution_count": 443,
   "metadata": {},
   "outputs": [
    {
     "data": {
      "text/plain": [
       "(6568, 2)"
      ]
     },
     "execution_count": 443,
     "metadata": {},
     "output_type": "execute_result"
    }
   ],
   "source": [
    "new_counts.shape"
   ]
  },
  {
   "cell_type": "code",
   "execution_count": null,
   "metadata": {},
   "outputs": [],
   "source": [
    "print(new_counts)"
   ]
  },
  {
   "cell_type": "code",
   "execution_count": 434,
   "metadata": {},
   "outputs": [
    {
     "data": {
      "text/plain": [
       "Text(0.5, 1.0, 'Observations of new case count across county from NYT data set: N < 1,000')"
      ]
     },
     "execution_count": 434,
     "metadata": {},
     "output_type": "execute_result"
    },
    {
     "data": {
      "image/png": "[encoded data removed]",
      "text/plain": [
       "<Figure size 792x576 with 1 Axes>"
      ]
     },
     "metadata": {},
     "output_type": "display_data"
    }
   ],
   "source": [
    "ax = sb.lineplot(x=\"new_cases\", y=\"date\", data=new_counts.loc[((new_counts['new_cases'] < 1000) ), :])\n",
    "ax.set_title('Observations of new case count across county from NYT data set: N < 1,000')"
   ]
  },
  {
   "cell_type": "code",
   "execution_count": 445,
   "metadata": {},
   "outputs": [
    {
     "data": {
      "text/plain": [
       "Text(0.5, 1.0, 'Observations of new case count across county from NYT data set: N > 100')"
      ]
     },
     "execution_count": 445,
     "metadata": {},
     "output_type": "execute_result"
    },
    {
     "data": {
      "image/png": "[encoded data removed]",
      "text/plain": [
       "<Figure size 792x576 with 1 Axes>"
      ]
     },
     "metadata": {},
     "output_type": "display_data"
    }
   ],
   "source": [
    "ax = sb.lineplot(x=\"new_cases\", y=\"date\", data=new_counts.loc[((new_counts['new_cases'] > 100) ), :])\n",
    "ax.set_title('Observations of new case count across county from NYT data set: N > 100')"
   ]
  },
  {
   "cell_type": "code",
   "execution_count": 430,
   "metadata": {},
   "outputs": [
    {
     "data": {
      "text/plain": [
       "Text(0.5, 1.0, 'Observations of new case count across county from NYT data set: N >= 100')"
      ]
     },
     "execution_count": 430,
     "metadata": {},
     "output_type": "execute_result"
    },
    {
     "data": {
      "image/png": "[encoded data removed]",
      "text/plain": [
       "<Figure size 792x576 with 1 Axes>"
      ]
     },
     "metadata": {},
     "output_type": "display_data"
    }
   ],
   "source": [
    "ax = sb.lineplot(x=\"new_cases\", y=\"date\", data=new_counts.loc[((new_counts['new_cases'] > 99) & (new_counts['new_cases'] < 1000) ), :])\n",
    "ax.set_title('Observations of new case count across county from NYT data set: N: 100-1,000')"
   ]
  },
  {
   "cell_type": "code",
   "execution_count": 435,
   "metadata": {},
   "outputs": [
    {
     "data": {
      "text/plain": [
       "Text(0.5, 1.0, 'Observations of new case count across county from NYT data set: N: 200-1,000')"
      ]
     },
     "execution_count": 435,
     "metadata": {},
     "output_type": "execute_result"
    },
    {
     "data": {
      "image/png": "[encoded data removed]",
      "text/plain": [
       "<Figure size 792x576 with 1 Axes>"
      ]
     },
     "metadata": {},
     "output_type": "display_data"
    }
   ],
   "source": [
    "ax = sb.lineplot(x=\"new_cases\", y=\"date\", data=new_counts.loc[((new_counts['new_cases'] > 199) & (new_counts['new_cases'] < 1000) ), :])\n",
    "ax.set_title('Observations of new case count across county from NYT data set: N: 200-1,000')"
   ]
  },
  {
   "cell_type": "code",
   "execution_count": 432,
   "metadata": {},
   "outputs": [
    {
     "data": {
      "text/plain": [
       "Text(0.5, 1.0, 'Observations of new case count across county from NYT data set: N 1,000-3,000')"
      ]
     },
     "execution_count": 432,
     "metadata": {},
     "output_type": "execute_result"
    },
    {
     "data": {
      "image/png": "[encoded data removed]",
      "text/plain": [
       "<Figure size 792x576 with 1 Axes>"
      ]
     },
     "metadata": {},
     "output_type": "display_data"
    }
   ],
   "source": [
    "ax = sb.lineplot(x=\"new_cases\", y=\"date\", data=new_counts.loc[((new_counts['new_cases'] > 999) & (new_counts['new_cases'] < 3000) ), :])\n",
    "ax.set_title('Observations of new case count across county from NYT data set: N 1,000-3,000')"
   ]
  },
  {
   "cell_type": "code",
   "execution_count": 441,
   "metadata": {},
   "outputs": [
    {
     "data": {
      "text/html": [
       "<div>\n",
       "<style scoped>\n",
       "    .dataframe tbody tr th:only-of-type {\n",
       "        vertical-align: middle;\n",
       "    }\n",
       "\n",
       "    .dataframe tbody tr th {\n",
       "        vertical-align: top;\n",
       "    }\n",
       "\n",
       "    .dataframe thead th {\n",
       "        text-align: right;\n",
       "    }\n",
       "</style>\n",
       "<table border=\"1\" class=\"dataframe\">\n",
       "  <thead>\n",
       "    <tr style=\"text-align: right;\">\n",
       "      <th></th>\n",
       "      <th>new_cases</th>\n",
       "      <th>date</th>\n",
       "    </tr>\n",
       "  </thead>\n",
       "  <tbody>\n",
       "    <tr>\n",
       "      <th>7358</th>\n",
       "      <td>962.0</td>\n",
       "      <td>3</td>\n",
       "    </tr>\n",
       "    <tr>\n",
       "      <th>7340</th>\n",
       "      <td>944.0</td>\n",
       "      <td>4</td>\n",
       "    </tr>\n",
       "    <tr>\n",
       "      <th>7381</th>\n",
       "      <td>985.0</td>\n",
       "      <td>4</td>\n",
       "    </tr>\n",
       "    <tr>\n",
       "      <th>7352</th>\n",
       "      <td>956.0</td>\n",
       "      <td>5</td>\n",
       "    </tr>\n",
       "    <tr>\n",
       "      <th>7368</th>\n",
       "      <td>972.0</td>\n",
       "      <td>5</td>\n",
       "    </tr>\n",
       "    <tr>\n",
       "      <th>7317</th>\n",
       "      <td>921.0</td>\n",
       "      <td>5</td>\n",
       "    </tr>\n",
       "    <tr>\n",
       "      <th>7346</th>\n",
       "      <td>950.0</td>\n",
       "      <td>5</td>\n",
       "    </tr>\n",
       "    <tr>\n",
       "      <th>7290</th>\n",
       "      <td>894.0</td>\n",
       "      <td>6</td>\n",
       "    </tr>\n",
       "    <tr>\n",
       "      <th>7178</th>\n",
       "      <td>782.0</td>\n",
       "      <td>6</td>\n",
       "    </tr>\n",
       "    <tr>\n",
       "      <th>7176</th>\n",
       "      <td>780.0</td>\n",
       "      <td>6</td>\n",
       "    </tr>\n",
       "    <tr>\n",
       "      <th>7104</th>\n",
       "      <td>708.0</td>\n",
       "      <td>6</td>\n",
       "    </tr>\n",
       "    <tr>\n",
       "      <th>7314</th>\n",
       "      <td>918.0</td>\n",
       "      <td>6</td>\n",
       "    </tr>\n",
       "    <tr>\n",
       "      <th>7371</th>\n",
       "      <td>975.0</td>\n",
       "      <td>6</td>\n",
       "    </tr>\n",
       "    <tr>\n",
       "      <th>7168</th>\n",
       "      <td>772.0</td>\n",
       "      <td>6</td>\n",
       "    </tr>\n",
       "    <tr>\n",
       "      <th>7345</th>\n",
       "      <td>949.0</td>\n",
       "      <td>6</td>\n",
       "    </tr>\n",
       "    <tr>\n",
       "      <th>7359</th>\n",
       "      <td>963.0</td>\n",
       "      <td>6</td>\n",
       "    </tr>\n",
       "    <tr>\n",
       "      <th>7138</th>\n",
       "      <td>742.0</td>\n",
       "      <td>6</td>\n",
       "    </tr>\n",
       "    <tr>\n",
       "      <th>7341</th>\n",
       "      <td>945.0</td>\n",
       "      <td>6</td>\n",
       "    </tr>\n",
       "    <tr>\n",
       "      <th>7279</th>\n",
       "      <td>883.0</td>\n",
       "      <td>6</td>\n",
       "    </tr>\n",
       "    <tr>\n",
       "      <th>7049</th>\n",
       "      <td>653.0</td>\n",
       "      <td>6</td>\n",
       "    </tr>\n",
       "    <tr>\n",
       "      <th>7276</th>\n",
       "      <td>880.0</td>\n",
       "      <td>6</td>\n",
       "    </tr>\n",
       "    <tr>\n",
       "      <th>7337</th>\n",
       "      <td>941.0</td>\n",
       "      <td>6</td>\n",
       "    </tr>\n",
       "    <tr>\n",
       "      <th>7344</th>\n",
       "      <td>948.0</td>\n",
       "      <td>6</td>\n",
       "    </tr>\n",
       "    <tr>\n",
       "      <th>7205</th>\n",
       "      <td>809.0</td>\n",
       "      <td>6</td>\n",
       "    </tr>\n",
       "    <tr>\n",
       "      <th>7207</th>\n",
       "      <td>811.0</td>\n",
       "      <td>6</td>\n",
       "    </tr>\n",
       "  </tbody>\n",
       "</table>\n",
       "</div>"
      ],
      "text/plain": [
       "      new_cases  date\n",
       "7358      962.0     3\n",
       "7340      944.0     4\n",
       "7381      985.0     4\n",
       "7352      956.0     5\n",
       "7368      972.0     5\n",
       "7317      921.0     5\n",
       "7346      950.0     5\n",
       "7290      894.0     6\n",
       "7178      782.0     6\n",
       "7176      780.0     6\n",
       "7104      708.0     6\n",
       "7314      918.0     6\n",
       "7371      975.0     6\n",
       "7168      772.0     6\n",
       "7345      949.0     6\n",
       "7359      963.0     6\n",
       "7138      742.0     6\n",
       "7341      945.0     6\n",
       "7279      883.0     6\n",
       "7049      653.0     6\n",
       "7276      880.0     6\n",
       "7337      941.0     6\n",
       "7344      948.0     6\n",
       "7205      809.0     6\n",
       "7207      811.0     6"
      ]
     },
     "execution_count": 441,
     "metadata": {},
     "output_type": "execute_result"
    }
   ],
   "source": [
    "new_counts.loc[((new_counts['new_cases'] > 199) & (new_counts['new_cases'] < 1000) ), :].sort_values('date').head(25)"
   ]
  },
  {
   "cell_type": "code",
   "execution_count": null,
   "metadata": {},
   "outputs": [],
   "source": []
  }
 ],
 "metadata": {
  "kernelspec": {
   "display_name": "Python 3",
   "language": "python",
   "name": "python3"
  },
  "language_info": {
   "codemirror_mode": {
    "name": "ipython",
    "version": 3
   },
   "file_extension": ".py",
   "mimetype": "text/x-python",
   "name": "python",
   "nbconvert_exporter": "python",
   "pygments_lexer": "ipython3",
   "version": "3.8.3"
  }
 },
 "nbformat": 4,
 "nbformat_minor": 4
}
