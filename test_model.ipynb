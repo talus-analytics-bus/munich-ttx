{
 "cells": [
  {
   "cell_type": "code",
   "execution_count": 1,
   "metadata": {},
   "outputs": [],
   "source": [
    "from datetime import datetime, date, timedelta\n",
    "import json\n",
    "import uuid\n",
    "from enum import Enum\n",
    "\n",
    "# 3rd party modules\n",
    "import boto3\n",
    "\n",
    "# Custom modules\n",
    "from ModelRun import ModelRun\n",
    "\n",
    "from ModelClasses import ModelTypes, EpiParams, Intervention, Result, ModelReport"
   ]
  },
  {
   "cell_type": "code",
   "execution_count": 2,
   "metadata": {},
   "outputs": [],
   "source": [
    "s3 = boto3.resource(\"s3\")"
   ]
  },
  {
   "cell_type": "code",
   "execution_count": 3,
   "metadata": {},
   "outputs": [],
   "source": [
    "state_name = \"Texas\"\n",
    "\n",
    "content_object = s3.Object(\"nyt-covid-caseload\", f\"{state_name}.json\")\n",
    "file_content = content_object.get()[\"Body\"].read().decode(\"utf-8\")\n",
    "state_timeseries = json.loads(file_content)\n",
    "\n",
    "ts_dates = sorted(state_timeseries.keys())\n",
    "first_date = ts_dates[0]\n",
    "last_date = ts_dates[-1]\n",
    "\n",
    "modelname = str(uuid.uuid1())\n",
    "\n",
    "modelrun = ModelRun(\"TX\")\n",
    "\n",
    "modelrun.get_data(state_timeseries)\n",
    "\n",
    "modelrun.set_epi_model(\"asymp\")\n",
    "\n",
    "modelrun.run()"
   ]
  },
  {
   "cell_type": "code",
   "execution_count": 31,
   "metadata": {},
   "outputs": [
    {
     "data": {
      "text/plain": [
       "2.104"
      ]
     },
     "execution_count": 31,
     "metadata": {},
     "output_type": "execute_result"
    }
   ],
   "source": [
    "modelrun.beta_mild=0.33\n",
    "modelrun.beta_asymp=modelrun.beta_mild\n",
    "\n",
    "modelrun.epi_run.generate_epi_params()\n",
    "\n",
    "params = modelrun.epi_run.EpiParameters\n",
    "\n",
    "params.generate_r0()"
   ]
  },
  {
   "cell_type": "code",
   "execution_count": null,
   "metadata": {},
   "outputs": [],
   "source": [
    "# 2.474\n",
    "\n",
    "prior_params = EpiParams(beta_mild=0.4, beta_asymp=0.4) # 2.524\n",
    "lockdown_params = EpiParams(beta_mild=0.12, beta_asymp=0.12) # 0.844\n",
    "stay_at_home_params = EpiParams(beta_mild=0.1375, beta_asymp=0.1375) # 0.949\n",
    "safer_at_home_params = EpiParams(beta_mild=0.19, beta_asymp=0.19) # 1.264\n",
    "new_open_params = EpiParams(beta_mild=0.285, beta_asymp=0.285) # 1.834\n",
    "unclear_params = EpiParams(beta_mild=0.285, beta_asymp=0.285) # 1.834\n",
    "counterfactual_params = EpiParams(beta_mild=0.33, beta_asymp=0.33) #2.104"
   ]
  },
  {
   "cell_type": "code",
   "execution_count": 4,
   "metadata": {},
   "outputs": [],
   "source": [
    "stay_at_home_params = EpiParams(beta_mild=0.15, beta_asymp=0.15)\n",
    "safer_at_home_params = EpiParams(beta_mild=0.25, beta_asymp=0.25)\n",
    "new_open_params = EpiParams(beta_mild=0.35, beta_asymp=0.35)\n",
    "unclear_params = EpiParams(beta_mild=0.4, beta_asymp=0.4)"
   ]
  },
  {
   "cell_type": "code",
   "execution_count": 5,
   "metadata": {},
   "outputs": [
    {
     "data": {
      "text/plain": [
       "OrderedDict([('base_run',\n",
       "                         date   exposed  infected_a  infected_b  infected_c     recovered  \\\n",
       "              0    2020-02-12  0.687500    0.687500    0.250000    0.062500  0.000000e+00   \n",
       "              1    2020-02-13  1.375000    1.375000    0.500000    0.125000  0.000000e+00   \n",
       "              2    2020-02-14  1.375000    1.375000    0.500000    0.125000  0.000000e+00   \n",
       "              3    2020-02-15  1.375000    1.375000    0.500000    0.125000  0.000000e+00   \n",
       "              4    2020-02-16  1.375000    1.375000    0.500000    0.125000  0.000000e+00   \n",
       "              ..          ...       ...         ...         ...         ...           ...   \n",
       "              177  2021-01-02  0.125514    0.585165    0.196186    0.454047  2.740756e+07   \n",
       "              178  2021-01-03  0.111729    0.520757    0.174533    0.405765  2.740756e+07   \n",
       "              179  2021-01-04  0.099459    0.463444    0.155273    0.362597  2.740756e+07   \n",
       "              180  2021-01-05  0.088537    0.412444    0.138140    0.324003  2.740756e+07   \n",
       "              181  2021-01-06  0.078815    0.367061    0.122900    0.289502  2.740756e+07   \n",
       "              \n",
       "                            dead     asymp    source  R effective  infected  pct_change  \\\n",
       "              0         0.000000  0.206250   actuals        3.074  1.206250         NaN   \n",
       "              1         0.000000  0.412500   actuals        3.074  2.412500         NaN   \n",
       "              2         0.000000  0.412500   actuals        3.074  2.412500         NaN   \n",
       "              3         0.000000  0.412500   actuals        3.074  2.412500         NaN   \n",
       "              4         0.000000  0.412500   actuals        3.074  2.412500         NaN   \n",
       "              ..             ...       ...       ...          ...       ...         ...   \n",
       "              177  142021.271312  0.376820  base run        3.074  1.612218   -0.110119   \n",
       "              178  142021.292784  0.335319  base run        3.074  1.436374   -0.110107   \n",
       "              179  142021.311973  0.298392  base run        3.074  1.279705   -0.110094   \n",
       "              180  142021.329120  0.265535  base run        3.074  1.140122   -0.110082   \n",
       "              181  142021.344442  0.236298  base run        3.074  1.015761   -0.110070   \n",
       "              \n",
       "                   doubling_time  \n",
       "              0              NaN  \n",
       "              1              NaN  \n",
       "              2              NaN  \n",
       "              3              NaN  \n",
       "              4              NaN  \n",
       "              ..             ...  \n",
       "              177      -6.294514  \n",
       "              178      -6.295243  \n",
       "              179      -6.295959  \n",
       "              180      -6.296664  \n",
       "              181      -6.297357  \n",
       "              \n",
       "              [331 rows x 13 columns])])"
      ]
     },
     "execution_count": 5,
     "metadata": {},
     "output_type": "execute_result"
    }
   ],
   "source": [
    "modelrun.results_dict"
   ]
  },
  {
   "cell_type": "code",
   "execution_count": null,
   "metadata": {},
   "outputs": [],
   "source": []
  }
 ],
 "metadata": {
  "kernelspec": {
   "display_name": "Python 3",
   "language": "python",
   "name": "python3"
  },
  "language_info": {
   "codemirror_mode": {
    "name": "ipython",
    "version": 3
   },
   "file_extension": ".py",
   "mimetype": "text/x-python",
   "name": "python",
   "nbconvert_exporter": "python",
   "pygments_lexer": "ipython3",
   "version": "3.8.3"
  }
 },
 "nbformat": 4,
 "nbformat_minor": 4
}
